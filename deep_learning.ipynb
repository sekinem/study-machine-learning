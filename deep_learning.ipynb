{
 "cells": [
  {
   "cell_type": "code",
   "execution_count": 5,
   "metadata": {},
   "outputs": [],
   "source": [
    "import numpy as np\n",
    "import matplotlib.pyplot as plt\n",
    "from keras.datasets import imdb\n",
    "from keras.preprocessing.text import Tokenizer\n",
    "from keras import models\n",
    "from keras import layers\n",
    "from keras.callbacks import EarlyStopping\n",
    "from sklearn.model_selection import train_test_split"
   ]
  },
  {
   "cell_type": "code",
   "execution_count": 6,
   "metadata": {},
   "outputs": [],
   "source": [
    "(train_data, train_labels), (test_data, test_labels) = imdb.load_data(num_words=10000)"
   ]
  },
  {
   "cell_type": "code",
   "execution_count": 7,
   "metadata": {},
   "outputs": [
    {
     "data": {
      "text/plain": [
       "(25000,)"
      ]
     },
     "execution_count": 7,
     "metadata": {},
     "output_type": "execute_result"
    }
   ],
   "source": [
    "train_data.shape"
   ]
  },
  {
   "cell_type": "code",
   "execution_count": 8,
   "metadata": {},
   "outputs": [
    {
     "data": {
      "text/plain": [
       "[1,\n",
       " 14,\n",
       " 22,\n",
       " 16,\n",
       " 43,\n",
       " 530,\n",
       " 973,\n",
       " 1622,\n",
       " 1385,\n",
       " 65,\n",
       " 458,\n",
       " 4468,\n",
       " 66,\n",
       " 3941,\n",
       " 4,\n",
       " 173,\n",
       " 36,\n",
       " 256,\n",
       " 5,\n",
       " 25,\n",
       " 100,\n",
       " 43,\n",
       " 838,\n",
       " 112,\n",
       " 50,\n",
       " 670,\n",
       " 2,\n",
       " 9,\n",
       " 35,\n",
       " 480,\n",
       " 284,\n",
       " 5,\n",
       " 150,\n",
       " 4,\n",
       " 172,\n",
       " 112,\n",
       " 167,\n",
       " 2,\n",
       " 336,\n",
       " 385,\n",
       " 39,\n",
       " 4,\n",
       " 172,\n",
       " 4536,\n",
       " 1111,\n",
       " 17,\n",
       " 546,\n",
       " 38,\n",
       " 13,\n",
       " 447,\n",
       " 4,\n",
       " 192,\n",
       " 50,\n",
       " 16,\n",
       " 6,\n",
       " 147,\n",
       " 2025,\n",
       " 19,\n",
       " 14,\n",
       " 22,\n",
       " 4,\n",
       " 1920,\n",
       " 4613,\n",
       " 469,\n",
       " 4,\n",
       " 22,\n",
       " 71,\n",
       " 87,\n",
       " 12,\n",
       " 16,\n",
       " 43,\n",
       " 530,\n",
       " 38,\n",
       " 76,\n",
       " 15,\n",
       " 13,\n",
       " 1247,\n",
       " 4,\n",
       " 22,\n",
       " 17,\n",
       " 515,\n",
       " 17,\n",
       " 12,\n",
       " 16,\n",
       " 626,\n",
       " 18,\n",
       " 2,\n",
       " 5,\n",
       " 62,\n",
       " 386,\n",
       " 12,\n",
       " 8,\n",
       " 316,\n",
       " 8,\n",
       " 106,\n",
       " 5,\n",
       " 4,\n",
       " 2223,\n",
       " 5244,\n",
       " 16,\n",
       " 480,\n",
       " 66,\n",
       " 3785,\n",
       " 33,\n",
       " 4,\n",
       " 130,\n",
       " 12,\n",
       " 16,\n",
       " 38,\n",
       " 619,\n",
       " 5,\n",
       " 25,\n",
       " 124,\n",
       " 51,\n",
       " 36,\n",
       " 135,\n",
       " 48,\n",
       " 25,\n",
       " 1415,\n",
       " 33,\n",
       " 6,\n",
       " 22,\n",
       " 12,\n",
       " 215,\n",
       " 28,\n",
       " 77,\n",
       " 52,\n",
       " 5,\n",
       " 14,\n",
       " 407,\n",
       " 16,\n",
       " 82,\n",
       " 2,\n",
       " 8,\n",
       " 4,\n",
       " 107,\n",
       " 117,\n",
       " 5952,\n",
       " 15,\n",
       " 256,\n",
       " 4,\n",
       " 2,\n",
       " 7,\n",
       " 3766,\n",
       " 5,\n",
       " 723,\n",
       " 36,\n",
       " 71,\n",
       " 43,\n",
       " 530,\n",
       " 476,\n",
       " 26,\n",
       " 400,\n",
       " 317,\n",
       " 46,\n",
       " 7,\n",
       " 4,\n",
       " 2,\n",
       " 1029,\n",
       " 13,\n",
       " 104,\n",
       " 88,\n",
       " 4,\n",
       " 381,\n",
       " 15,\n",
       " 297,\n",
       " 98,\n",
       " 32,\n",
       " 2071,\n",
       " 56,\n",
       " 26,\n",
       " 141,\n",
       " 6,\n",
       " 194,\n",
       " 7486,\n",
       " 18,\n",
       " 4,\n",
       " 226,\n",
       " 22,\n",
       " 21,\n",
       " 134,\n",
       " 476,\n",
       " 26,\n",
       " 480,\n",
       " 5,\n",
       " 144,\n",
       " 30,\n",
       " 5535,\n",
       " 18,\n",
       " 51,\n",
       " 36,\n",
       " 28,\n",
       " 224,\n",
       " 92,\n",
       " 25,\n",
       " 104,\n",
       " 4,\n",
       " 226,\n",
       " 65,\n",
       " 16,\n",
       " 38,\n",
       " 1334,\n",
       " 88,\n",
       " 12,\n",
       " 16,\n",
       " 283,\n",
       " 5,\n",
       " 16,\n",
       " 4472,\n",
       " 113,\n",
       " 103,\n",
       " 32,\n",
       " 15,\n",
       " 16,\n",
       " 5345,\n",
       " 19,\n",
       " 178,\n",
       " 32]"
      ]
     },
     "execution_count": 8,
     "metadata": {},
     "output_type": "execute_result"
    }
   ],
   "source": [
    "train_data[0]"
   ]
  },
  {
   "cell_type": "code",
   "execution_count": 11,
   "metadata": {},
   "outputs": [
    {
     "data": {
      "text/plain": [
       "218"
      ]
     },
     "execution_count": 11,
     "metadata": {},
     "output_type": "execute_result"
    }
   ],
   "source": [
    "len(train_data[0])"
   ]
  },
  {
   "cell_type": "code",
   "execution_count": 12,
   "metadata": {},
   "outputs": [
    {
     "data": {
      "text/plain": [
       "1"
      ]
     },
     "execution_count": 12,
     "metadata": {},
     "output_type": "execute_result"
    }
   ],
   "source": [
    "train_labels[0]"
   ]
  },
  {
   "cell_type": "code",
   "execution_count": 13,
   "metadata": {},
   "outputs": [
    {
     "data": {
      "text/plain": [
       "[1,\n",
       " 13,\n",
       " 244,\n",
       " 6,\n",
       " 87,\n",
       " 337,\n",
       " 7,\n",
       " 628,\n",
       " 2219,\n",
       " 5,\n",
       " 28,\n",
       " 285,\n",
       " 15,\n",
       " 240,\n",
       " 93,\n",
       " 23,\n",
       " 288,\n",
       " 549,\n",
       " 18,\n",
       " 1455,\n",
       " 673,\n",
       " 4,\n",
       " 241,\n",
       " 534,\n",
       " 3635,\n",
       " 8448,\n",
       " 20,\n",
       " 38,\n",
       " 54,\n",
       " 13,\n",
       " 258,\n",
       " 46,\n",
       " 44,\n",
       " 14,\n",
       " 13,\n",
       " 1241,\n",
       " 7258,\n",
       " 12,\n",
       " 5,\n",
       " 5,\n",
       " 51,\n",
       " 9,\n",
       " 14,\n",
       " 45,\n",
       " 6,\n",
       " 762,\n",
       " 7,\n",
       " 2,\n",
       " 1309,\n",
       " 328,\n",
       " 5,\n",
       " 428,\n",
       " 2473,\n",
       " 15,\n",
       " 26,\n",
       " 1292,\n",
       " 5,\n",
       " 3939,\n",
       " 6728,\n",
       " 5,\n",
       " 1960,\n",
       " 279,\n",
       " 13,\n",
       " 92,\n",
       " 124,\n",
       " 803,\n",
       " 52,\n",
       " 21,\n",
       " 279,\n",
       " 14,\n",
       " 9,\n",
       " 43,\n",
       " 6,\n",
       " 762,\n",
       " 7,\n",
       " 595,\n",
       " 15,\n",
       " 16,\n",
       " 2,\n",
       " 23,\n",
       " 4,\n",
       " 1071,\n",
       " 467,\n",
       " 4,\n",
       " 403,\n",
       " 7,\n",
       " 628,\n",
       " 2219,\n",
       " 8,\n",
       " 97,\n",
       " 6,\n",
       " 171,\n",
       " 3596,\n",
       " 99,\n",
       " 387,\n",
       " 72,\n",
       " 97,\n",
       " 12,\n",
       " 788,\n",
       " 15,\n",
       " 13,\n",
       " 161,\n",
       " 459,\n",
       " 44,\n",
       " 4,\n",
       " 3939,\n",
       " 1101,\n",
       " 173,\n",
       " 21,\n",
       " 69,\n",
       " 8,\n",
       " 401,\n",
       " 2,\n",
       " 4,\n",
       " 481,\n",
       " 88,\n",
       " 61,\n",
       " 4731,\n",
       " 238,\n",
       " 28,\n",
       " 32,\n",
       " 11,\n",
       " 32,\n",
       " 14,\n",
       " 9,\n",
       " 6,\n",
       " 545,\n",
       " 1332,\n",
       " 766,\n",
       " 5,\n",
       " 203,\n",
       " 73,\n",
       " 28,\n",
       " 43,\n",
       " 77,\n",
       " 317,\n",
       " 11,\n",
       " 4,\n",
       " 2,\n",
       " 953,\n",
       " 270,\n",
       " 17,\n",
       " 6,\n",
       " 3616,\n",
       " 13,\n",
       " 545,\n",
       " 386,\n",
       " 25,\n",
       " 92,\n",
       " 1142,\n",
       " 129,\n",
       " 278,\n",
       " 23,\n",
       " 14,\n",
       " 241,\n",
       " 46,\n",
       " 7,\n",
       " 158]"
      ]
     },
     "execution_count": 13,
     "metadata": {},
     "output_type": "execute_result"
    }
   ],
   "source": [
    "train_data[100]"
   ]
  },
  {
   "cell_type": "code",
   "execution_count": 14,
   "metadata": {},
   "outputs": [
    {
     "data": {
      "text/plain": [
       "158"
      ]
     },
     "execution_count": 14,
     "metadata": {},
     "output_type": "execute_result"
    }
   ],
   "source": [
    "len(train_data[100])"
   ]
  },
  {
   "cell_type": "code",
   "execution_count": 15,
   "metadata": {},
   "outputs": [
    {
     "data": {
      "text/plain": [
       "0"
      ]
     },
     "execution_count": 15,
     "metadata": {},
     "output_type": "execute_result"
    }
   ],
   "source": [
    "train_labels[100]"
   ]
  },
  {
   "cell_type": "code",
   "execution_count": 16,
   "metadata": {},
   "outputs": [],
   "source": [
    "tokenizer = Tokenizer(num_words=10000)\n",
    "X_train = tokenizer.sequences_to_matrix(train_data, mode='binary')\n",
    "X_test = tokenizer.sequences_to_matrix(train_data, mode='binary')"
   ]
  },
  {
   "cell_type": "code",
   "execution_count": 17,
   "metadata": {},
   "outputs": [
    {
     "data": {
      "text/plain": [
       "(25000, 10000)"
      ]
     },
     "execution_count": 17,
     "metadata": {},
     "output_type": "execute_result"
    }
   ],
   "source": [
    "X_train.shape"
   ]
  },
  {
   "cell_type": "code",
   "execution_count": 18,
   "metadata": {},
   "outputs": [
    {
     "data": {
      "text/plain": [
       "array([0., 1., 1., ..., 0., 0., 0.])"
      ]
     },
     "execution_count": 18,
     "metadata": {},
     "output_type": "execute_result"
    }
   ],
   "source": [
    "X_train[0]"
   ]
  },
  {
   "cell_type": "code",
   "execution_count": 19,
   "metadata": {},
   "outputs": [],
   "source": [
    "y_train = np.asarray(train_labels).astype('float32')\n",
    "y_test = np.asarray(test_labels).astype('float32')"
   ]
  },
  {
   "cell_type": "code",
   "execution_count": 20,
   "metadata": {},
   "outputs": [],
   "source": [
    "X_train, X_val, y_train, y_val = train_test_split(X_train, y_train, test_size=0.1, random_state=0)"
   ]
  },
  {
   "cell_type": "code",
   "execution_count": 21,
   "metadata": {},
   "outputs": [
    {
     "data": {
      "text/plain": [
       "((22500, 10000), (2500, 10000))"
      ]
     },
     "execution_count": 21,
     "metadata": {},
     "output_type": "execute_result"
    }
   ],
   "source": [
    "X_train.shape, X_val.shape"
   ]
  },
  {
   "cell_type": "code",
   "execution_count": 26,
   "metadata": {},
   "outputs": [],
   "source": [
    "model = models.Sequential()\n",
    "model.add(layers.Dense(32, activation='relu', input_shape=(10000,)))\n",
    "model.add(layers.Dense(16, activation='relu'))\n",
    "model.add(layers.Dense(1, activation='sigmoid'))"
   ]
  },
  {
   "cell_type": "code",
   "execution_count": 27,
   "metadata": {},
   "outputs": [
    {
     "name": "stdout",
     "output_type": "stream",
     "text": [
      "Model: \"sequential_1\"\n",
      "_________________________________________________________________\n",
      "Layer (type)                 Output Shape              Param #   \n",
      "=================================================================\n",
      "dense_3 (Dense)              (None, 32)                320032    \n",
      "_________________________________________________________________\n",
      "dense_4 (Dense)              (None, 16)                528       \n",
      "_________________________________________________________________\n",
      "dense_5 (Dense)              (None, 1)                 17        \n",
      "=================================================================\n",
      "Total params: 320,577\n",
      "Trainable params: 320,577\n",
      "Non-trainable params: 0\n",
      "_________________________________________________________________\n"
     ]
    }
   ],
   "source": [
    "model.summary()"
   ]
  },
  {
   "cell_type": "code",
   "execution_count": 28,
   "metadata": {},
   "outputs": [],
   "source": [
    "model.compile(\n",
    "    optimizer='adam',\n",
    "    loss='binary_crossentropy',\n",
    "    metrics=['accuracy']\n",
    ")"
   ]
  },
  {
   "cell_type": "code",
   "execution_count": 29,
   "metadata": {},
   "outputs": [
    {
     "name": "stdout",
     "output_type": "stream",
     "text": [
      "Epoch 1/20\n",
      "44/44 [==============================] - 1s 26ms/step - loss: 0.4217 - accuracy: 0.8254 - val_loss: 0.2795 - val_accuracy: 0.8944\n",
      "Epoch 2/20\n",
      "44/44 [==============================] - 1s 23ms/step - loss: 0.2113 - accuracy: 0.9204 - val_loss: 0.2662 - val_accuracy: 0.8984\n",
      "Epoch 3/20\n",
      "44/44 [==============================] - 1s 21ms/step - loss: 0.1514 - accuracy: 0.9466 - val_loss: 0.2852 - val_accuracy: 0.8896\n",
      "Epoch 4/20\n",
      "44/44 [==============================] - 1s 21ms/step - loss: 0.1159 - accuracy: 0.9624 - val_loss: 0.3188 - val_accuracy: 0.8872\n",
      "Epoch 5/20\n",
      "44/44 [==============================] - 1s 21ms/step - loss: 0.0893 - accuracy: 0.9724 - val_loss: 0.3542 - val_accuracy: 0.8840\n",
      "Epoch 6/20\n",
      "44/44 [==============================] - 1s 22ms/step - loss: 0.0673 - accuracy: 0.9811 - val_loss: 0.3894 - val_accuracy: 0.8788\n",
      "Epoch 7/20\n",
      "44/44 [==============================] - 1s 22ms/step - loss: 0.0515 - accuracy: 0.9879 - val_loss: 0.4397 - val_accuracy: 0.8744\n",
      "Epoch 8/20\n",
      "44/44 [==============================] - 1s 20ms/step - loss: 0.0368 - accuracy: 0.9931 - val_loss: 0.4761 - val_accuracy: 0.8748\n",
      "Epoch 9/20\n",
      "44/44 [==============================] - 1s 21ms/step - loss: 0.0260 - accuracy: 0.9964 - val_loss: 0.5183 - val_accuracy: 0.8744\n",
      "Epoch 10/20\n",
      "44/44 [==============================] - 1s 21ms/step - loss: 0.0203 - accuracy: 0.9975 - val_loss: 0.5629 - val_accuracy: 0.8728\n",
      "Epoch 11/20\n",
      "44/44 [==============================] - 1s 21ms/step - loss: 0.0139 - accuracy: 0.9989 - val_loss: 0.6085 - val_accuracy: 0.8696\n",
      "Epoch 12/20\n",
      "44/44 [==============================] - 1s 23ms/step - loss: 0.0098 - accuracy: 0.9995 - val_loss: 0.6319 - val_accuracy: 0.8708\n",
      "Epoch 13/20\n",
      "44/44 [==============================] - 1s 20ms/step - loss: 0.0069 - accuracy: 0.9998 - val_loss: 0.6652 - val_accuracy: 0.8692\n",
      "Epoch 14/20\n",
      "44/44 [==============================] - 1s 19ms/step - loss: 0.0051 - accuracy: 0.9999 - val_loss: 0.6952 - val_accuracy: 0.8700\n",
      "Epoch 15/20\n",
      "44/44 [==============================] - 1s 19ms/step - loss: 0.0040 - accuracy: 1.0000 - val_loss: 0.7161 - val_accuracy: 0.8704\n",
      "Epoch 16/20\n",
      "44/44 [==============================] - 1s 18ms/step - loss: 0.0031 - accuracy: 1.0000 - val_loss: 0.7394 - val_accuracy: 0.8680\n",
      "Epoch 17/20\n",
      "44/44 [==============================] - 1s 20ms/step - loss: 0.0025 - accuracy: 1.0000 - val_loss: 0.7603 - val_accuracy: 0.8700\n",
      "Epoch 18/20\n",
      "44/44 [==============================] - 1s 19ms/step - loss: 0.0020 - accuracy: 1.0000 - val_loss: 0.7798 - val_accuracy: 0.8700\n",
      "Epoch 19/20\n",
      "44/44 [==============================] - 1s 19ms/step - loss: 0.0017 - accuracy: 1.0000 - val_loss: 0.7984 - val_accuracy: 0.8676\n",
      "Epoch 20/20\n",
      "44/44 [==============================] - 1s 18ms/step - loss: 0.0015 - accuracy: 1.0000 - val_loss: 0.8140 - val_accuracy: 0.8680\n"
     ]
    }
   ],
   "source": [
    "history = model.fit(\n",
    "    x=X_train,\n",
    "    y=y_train,\n",
    "    epochs=20,\n",
    "    batch_size=512,\n",
    "    verbose=1,\n",
    "    validation_data=(X_val, y_val)\n",
    ")"
   ]
  },
  {
   "cell_type": "code",
   "execution_count": 30,
   "metadata": {},
   "outputs": [
    {
     "data": {
      "text/plain": [
       "dict_keys(['loss', 'accuracy', 'val_loss', 'val_accuracy'])"
      ]
     },
     "execution_count": 30,
     "metadata": {},
     "output_type": "execute_result"
    }
   ],
   "source": [
    "history_dict = history.history\n",
    "history_dict.keys()"
   ]
  },
  {
   "cell_type": "code",
   "execution_count": 32,
   "metadata": {},
   "outputs": [
    {
     "data": {
      "image/png": "[encoded data removed]",
      "text/plain": [
       "<Figure size 864x576 with 1 Axes>"
      ]
     },
     "metadata": {
      "needs_background": "light"
     },
     "output_type": "display_data"
    }
   ],
   "source": [
    "acc = history_dict['accuracy']\n",
    "val_acc = history_dict['val_accuracy']\n",
    "epochs = range(1, len(acc) + 1)\n",
    "\n",
    "plt.figure(figsize=(12, 8))\n",
    "plt.plot(epochs, acc, label='accuracy')\n",
    "plt.plot(epochs, val_acc, label='val_accuracy')\n",
    "plt.ylim((0, 1))\n",
    "plt.legend(loc='best')\n",
    "plt.show()"
   ]
  },
  {
   "cell_type": "code",
   "execution_count": 34,
   "metadata": {},
   "outputs": [
    {
     "data": {
      "image/png": "[encoded data removed]",
      "text/plain": [
       "<Figure size 864x576 with 1 Axes>"
      ]
     },
     "metadata": {
      "needs_background": "light"
     },
     "output_type": "display_data"
    }
   ],
   "source": [
    "loss = history_dict['loss']\n",
    "val_loss = history_dict['val_loss']\n",
    "epochs = range(1, len(loss) + 1)\n",
    "\n",
    "plt.figure(figsize=(12, 8))\n",
    "plt.plot(epochs, loss, label='loss')\n",
    "plt.plot(epochs, val_loss, label='val_loss')\n",
    "plt.ylim((0, 1))\n",
    "plt.legend(loc='best')\n",
    "plt.show()"
   ]
  },
  {
   "cell_type": "code",
   "execution_count": 37,
   "metadata": {},
   "outputs": [],
   "source": [
    "callbacks = [EarlyStopping(monitor='val_accuracy', patience=3)]"
   ]
  },
  {
   "cell_type": "code",
   "execution_count": 38,
   "metadata": {},
   "outputs": [
    {
     "name": "stdout",
     "output_type": "stream",
     "text": [
      "Epoch 1/20\n",
      "44/44 [==============================] - 1s 19ms/step - loss: 1.3456e-04 - accuracy: 1.0000 - val_loss: 1.0894 - val_accuracy: 0.8672\n",
      "Epoch 2/20\n",
      "44/44 [==============================] - 1s 17ms/step - loss: 1.2349e-04 - accuracy: 1.0000 - val_loss: 1.1005 - val_accuracy: 0.8672\n",
      "Epoch 3/20\n",
      "44/44 [==============================] - 1s 17ms/step - loss: 1.1355e-04 - accuracy: 1.0000 - val_loss: 1.1123 - val_accuracy: 0.8668\n",
      "Epoch 4/20\n",
      "44/44 [==============================] - 1s 17ms/step - loss: 1.0468e-04 - accuracy: 1.0000 - val_loss: 1.1209 - val_accuracy: 0.8668\n"
     ]
    }
   ],
   "source": [
    "history = model.fit(\n",
    "    x=X_train,\n",
    "    y=y_train,\n",
    "    epochs=20,\n",
    "    batch_size=512,\n",
    "    verbose=1,\n",
    "    callbacks=callbacks,\n",
    "    validation_data=(X_val, y_val)\n",
    ")"
   ]
  },
  {
   "cell_type": "code",
   "execution_count": 39,
   "metadata": {},
   "outputs": [
    {
     "name": "stdout",
     "output_type": "stream",
     "text": [
      "782/782 [==============================] - 2s 2ms/step - loss: 9.2349 - accuracy: 0.4972\n",
      "Test set loss: 9.23487663269043, Tset set accuracy: 0.49724000692367554\n"
     ]
    }
   ],
   "source": [
    "score = model.evaluate(X_test, y_test)\n",
    "print(f'Test set loss: {score[0]}, Tset set accuracy: {score[1]}')"
   ]
  },
  {
   "cell_type": "code",
   "execution_count": 40,
   "metadata": {},
   "outputs": [
    {
     "name": "stdout",
     "output_type": "stream",
     "text": [
      "Epoch 1/20\n",
      "44/44 [==============================] - 2s 37ms/step - loss: 0.6113 - accuracy: 0.7462 - val_loss: 0.5376 - val_accuracy: 0.8212\n",
      "Epoch 2/20\n",
      "44/44 [==============================] - 0s 10ms/step - loss: 0.4920 - accuracy: 0.8514 - val_loss: 0.4595 - val_accuracy: 0.8564\n",
      "Epoch 3/20\n",
      "44/44 [==============================] - 0s 11ms/step - loss: 0.4267 - accuracy: 0.8747 - val_loss: 0.4137 - val_accuracy: 0.8692\n",
      "Epoch 4/20\n",
      "44/44 [==============================] - 0s 10ms/step - loss: 0.3836 - accuracy: 0.8874 - val_loss: 0.3825 - val_accuracy: 0.8720\n",
      "Epoch 5/20\n",
      "44/44 [==============================] - 0s 11ms/step - loss: 0.3525 - accuracy: 0.8964 - val_loss: 0.3605 - val_accuracy: 0.8780\n",
      "Epoch 6/20\n",
      "44/44 [==============================] - 0s 10ms/step - loss: 0.3285 - accuracy: 0.9022 - val_loss: 0.3433 - val_accuracy: 0.8800\n",
      "Epoch 7/20\n",
      "44/44 [==============================] - 0s 11ms/step - loss: 0.3091 - accuracy: 0.9074 - val_loss: 0.3299 - val_accuracy: 0.8836\n",
      "Epoch 8/20\n",
      "44/44 [==============================] - 0s 10ms/step - loss: 0.2932 - accuracy: 0.9120 - val_loss: 0.3195 - val_accuracy: 0.8884\n",
      "Epoch 9/20\n",
      "44/44 [==============================] - 0s 10ms/step - loss: 0.2796 - accuracy: 0.9165 - val_loss: 0.3106 - val_accuracy: 0.8872\n",
      "Epoch 10/20\n",
      "44/44 [==============================] - 0s 10ms/step - loss: 0.2680 - accuracy: 0.9202 - val_loss: 0.3037 - val_accuracy: 0.8904\n",
      "Epoch 11/20\n",
      "44/44 [==============================] - 0s 11ms/step - loss: 0.2576 - accuracy: 0.9232 - val_loss: 0.2974 - val_accuracy: 0.8920\n",
      "Epoch 12/20\n",
      "44/44 [==============================] - 0s 10ms/step - loss: 0.2486 - accuracy: 0.9269 - val_loss: 0.2922 - val_accuracy: 0.8940\n",
      "Epoch 13/20\n",
      "44/44 [==============================] - 0s 10ms/step - loss: 0.2403 - accuracy: 0.9291 - val_loss: 0.2880 - val_accuracy: 0.8948\n",
      "Epoch 14/20\n",
      "44/44 [==============================] - 0s 10ms/step - loss: 0.2329 - accuracy: 0.9312 - val_loss: 0.2846 - val_accuracy: 0.8948\n",
      "Epoch 15/20\n",
      "44/44 [==============================] - 0s 10ms/step - loss: 0.2263 - accuracy: 0.9325 - val_loss: 0.2808 - val_accuracy: 0.8992\n",
      "Epoch 16/20\n",
      "44/44 [==============================] - 0s 11ms/step - loss: 0.2200 - accuracy: 0.9354 - val_loss: 0.2780 - val_accuracy: 0.8976\n",
      "Epoch 17/20\n",
      "44/44 [==============================] - 0s 10ms/step - loss: 0.2142 - accuracy: 0.9363 - val_loss: 0.2757 - val_accuracy: 0.8992\n",
      "Epoch 18/20\n",
      "44/44 [==============================] - 0s 11ms/step - loss: 0.2090 - accuracy: 0.9379 - val_loss: 0.2736 - val_accuracy: 0.9000\n",
      "Epoch 19/20\n",
      "44/44 [==============================] - 0s 11ms/step - loss: 0.2040 - accuracy: 0.9393 - val_loss: 0.2719 - val_accuracy: 0.8992\n",
      "Epoch 20/20\n",
      "44/44 [==============================] - 0s 11ms/step - loss: 0.1996 - accuracy: 0.9414 - val_loss: 0.2699 - val_accuracy: 0.8984\n"
     ]
    }
   ],
   "source": [
    "model = models.Sequential()\n",
    "model.add(layers.Dense(1, activation='sigmoid', input_shape=(10000,)))\n",
    "\n",
    "model.compile(\n",
    "    optimizer='adam',\n",
    "    loss='binary_crossentropy',\n",
    "    metrics=['accuracy']\n",
    ")\n",
    "\n",
    "history = model.fit(\n",
    "    x=X_train,\n",
    "    y=y_train,\n",
    "    epochs=20,\n",
    "    batch_size=512,\n",
    "    verbose=1,\n",
    "    callbacks=callbacks,\n",
    "    validation_data=(X_val, y_val)\n",
    ")"
   ]
  },
  {
   "cell_type": "code",
   "execution_count": 41,
   "metadata": {},
   "outputs": [
    {
     "name": "stdout",
     "output_type": "stream",
     "text": [
      "782/782 [==============================] - 1s 1ms/step - loss: 1.5119 - accuracy: 0.4962\n",
      "Test set loss: 1.5118725299835205, Tset set accuracy: 0.4962399899959564\n"
     ]
    }
   ],
   "source": [
    "score = model.evaluate(X_test, y_test)\n",
    "print(f'Test set loss: {score[0]}, Tset set accuracy: {score[1]}')"
   ]
  },
  {
   "cell_type": "code",
   "execution_count": null,
   "metadata": {},
   "outputs": [],
   "source": []
  }
 ],
 "metadata": {
  "kernelspec": {
   "display_name": "Python 3",
   "language": "python",
   "name": "python3"
  },
  "language_info": {
   "codemirror_mode": {
    "name": "ipython",
    "version": 3
   },
   "file_extension": ".py",
   "mimetype": "text/x-python",
   "name": "python",
   "nbconvert_exporter": "python",
   "pygments_lexer": "ipython3",
   "version": "3.8.8"
  }
 },
 "nbformat": 4,
 "nbformat_minor": 4
}
