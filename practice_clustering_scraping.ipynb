{
 "cells": [
  {
   "cell_type": "code",
   "execution_count": 1,
   "metadata": {},
   "outputs": [],
   "source": [
    "import requests\n",
    "import lxml.html\n",
    "import time\n",
    "import pandas as pd"
   ]
  },
  {
   "cell_type": "code",
   "execution_count": 2,
   "metadata": {},
   "outputs": [
    {
     "data": {
      "text/plain": [
       "b'<!DOCTYPE html>\\n<html lang=\"ja\">\\n<head>\\n<!-- Google Tag Manager -->\\n<script>(function(w,d,s,l,i){w[l]=w[l]||[];w[l].push({\\'gtm.start\\':\\nnew Date().getTime(),event:\\'gtm.js\\'});var f=d.getElementsByTagName(s)[0],\\nj=d.createElement(s),dl=l!=\\'dataLayer\\'?\\'&l=\\'+l:\\'\\';j.async=true;j.src=\\n\\'https://www.googletagmanager.com/gtm.js?id=\\'+i+dl;f.parentNode.insertBefore(j,f);\\n})(window,document,\\'script\\',\\'dataLayer\\',\\'GTM-WS88V3F\\');</script>\\n<!-- End Google Tag Manager -->\\n\\n<meta charset=\"utf-8\">\\n<meta http-equiv=\"X-UA-Compatible\" content=\"IE=edge\">\\n<meta name=\"copyright\" content=\"Nippon Professional Baseball Organization.\">\\n<meta name=\"author\" content=\"\\xe4\\xb8\\x80\\xe8\\x88\\xac\\xe7\\xa4\\xbe\\xe5\\x9b\\xa3\\xe6\\xb3\\x95\\xe4\\xba\\xba\\xe6\\x97\\xa5\\xe6\\x9c\\xac\\xe9\\x87\\x8e\\xe7\\x90\\x83\\xe6\\xa9\\x9f\\xe6\\xa7\\x8b\">\\n<meta name=\"keywords\" content=\"\\xe9\\x87\\x8e\\xe7\\x90\\x83,\\xe3\\x83\\x97\\xe3\\x83\\xad\\xe9\\x87\\x8e\\xe7\\x90\\x83,\\xe9\\x87\\x8e\\xe7\\x90\\x83\\xe6\\xa9\\x9f\\xe6\\xa7\\x8b,\\xe6\\x97\\xa5\\xe6\\x9c\\xac\\xe9\\x87\\x8e\\xe7\\x90\\x83\\xe6\\xa9\\x9f\\xe6\\xa7\\x8b,\\xe6\\x97\\xa5\\xe6\\x9c\\xac\\xe3\\x83\\x97\\xe3\\x83\\xad\\xe3\\x83\\x95\\xe3\\x82\\xa7\\xe3\\x83\\x83\\xe3\\x82\\xb7\\xe3\\x83\\xa7\\xe3\\x83\\x8a\\xe3\\x83\\xab\\xe9\\x87\\x8e\\xe7\\x90\\x83\\xe7\\xb5\\x84\\xe7\\xb9\\x94,\\xef\\xbc\\xae\\xef\\xbc\\xb0\\xef\\xbc\\xa2,NPB,\\xe3\\x82\\xbb\\xe3\\x83\\xbb\\xe3\\x83\\xaa\\xe3\\x83\\xbc\\xe3\\x82\\xb0,\\xe3\\x83\\x91\\xe3\\x83\\xbb\\xe3\\x83\\xaa\\xe3\\x83\\xbc\\xe3\\x82\\xb0,\\xe4\\xba\\xa4\\xe6\\xb5\\x81\\xe6\\x88\\xa6,\\xe6\\x97\\xa5\\xe6\\x9c\\xac\\xe3\\x82\\xb7\\xe3\\x83\\xaa\\xe3\\x83\\xbc\\xe3\\x82\\xba,\\xe3\\x82\\xaa\\xe3\\x83\\xbc\\xe3\\x83\\xab\\xe3\\x82\\xb9\\xe3\\x82\\xbf\\xe3\\x83\\xbc\">\\n<meta name=\"description\" content=\"\\xe6\\x97\\xa5\\xe6\\x9c\\xac\\xe9\\x87\\x8e\\xe7\\x90\\x83\\xe6\\xa9\\x9f\\xe6\\xa7\\x8b\\xef\\xbc\\x88NPB\\xef\\xbc\\x89\\xe3\\x82\\xaa\\xe3\\x83\\x95\\xe3\\x82\\xa3\\xe3\\x82\\xb7\\xe3\\x83\\xa3\\xe3\\x83\\xab\\xe3\\x82\\xb5\\xe3\\x82\\xa4\\xe3\\x83\\x88\\xe3\\x80\\x82\\xe3\\x83\\x97\\xe3\\x83\\xad\\xe9\\x87\\x8e\\xe7\\x90\\x8312\\xe7\\x90\\x83\\xe5\\x9b\\xa3\\xe3\\x81\\xae\\xe8\\xa9\\xa6\\xe5\\x90\\x88\\xe6\\x97\\xa5\\xe7\\xa8\\x8b\\xe3\\x83\\xbb\\xe7\\xb5\\x90\\xe6\\x9e\\x9c\\xe3\\x82\\x84\\xe4\\xba\\x88\\xe5\\x91\\x8a\\xe5\\x85\\x88\\xe7\\x99\\xba\\xe3\\x80\\x81\\xe3\\x83\\x89\\xe3\\x83\\xa9\\xe3\\x83\\x95\\xe3\\x83\\x88\\xe4\\xbc\\x9a\\xe8\\xad\\xb0\\xe3\\x82\\x92\\xe3\\x81\\xaf\\xe3\\x81\\x98\\xe3\\x82\\x81\\xe3\\x80\\x81\\xe4\\xba\\x8b\\xe6\\xa5\\xad\\xe3\\x83\\xbb\\xe6\\x8c\\xaf\\xe8\\x88\\x88\\xe3\\x81\\xab\\xe9\\x96\\xa2\\xe3\\x81\\x99\\xe3\\x82\\x8b\\xe6\\x83\\x85\\xe5\\xa0\\xb1\\xe3\\x82\\x92\\xe6\\x8e\\xb2\\xe8\\xbc\\x89\\xe3\\x80\\x82\\xe3\\x81\\xbe\\xe3\\x81\\x9f\\xe3\\x80\\x81\\xe3\\x82\\xaa\\xe3\\x83\\xbc\\xe3\\x83\\xab\\xe3\\x82\\xb9\\xe3\\x82\\xbf\\xe3\\x83\\xbc\\xef\\xbd\\xa5\\xe3\\x82\\xb2\\xe3\\x83\\xbc\\xe3\\x83\\xa0\\xe3\\x82\\x84\\xe6\\x97\\xa5\\xe6\\x9c\\xac\\xe3\\x82\\xb7\\xe3\\x83\\xaa\\xe3\\x83\\xbc\\xe3\\x82\\xba\\xe3\\x81\\xaa\\xe3\\x81\\xa9\\xe4\\xb8\\xbb\\xe5\\x82\\xac\\xe8\\xa9\\xa6\\xe5\\x90\\x88\\xe3\\x81\\xae\\xe3\\x83\\x81\\xe3\\x82\\xb1\\xe3\\x83\\x83\\xe3\\x83\\x88\\xe6\\x83\\x85\\xe5\\xa0\\xb1\\xe3\\x82\\x82\\xe3\\x81\\x94\\xe8\\xa6\\xa7\\xe3\\x81\\x84\\xe3\\x81\\x9f\\xe3\\x81\\xa0\\xe3\\x81\\x91\\xe3\\x81\\xbe\\xe3\\x81\\x99\\xe3\\x80\\x82\">\\n<meta name=\"viewport\" content=\"width=1100\">\\n<meta name=\"format-detection\" content=\"telephone=no\">\\n<link rel=\"apple-touch-icon\" href=\"/img/webclip.png\">\\n<link rel=\"Shortcut Icon\" href=\"/img/favicon.ico\" type=\"image/x-icon\">\\n\\n<!--[if lt IE 9]>\\n<script src=\"/common/js/html5shiv.min.js\"></script>\\n<![endif]-->\\n\\n<script type=\"text/javascript\" src=\"/common/js/jquery-1.11.3.min.js\"></script>\\n<script type=\"text/javascript\" src=\"/common/js/jquery.easing.js\"></script>\\n<script type=\"text/javascript\" src=\"/common/js/jquery.flicksimple.js\"></script>\\n<script type=\"text/javascript\" src=\"/common/js/common.js\"></script>\\n<script type=\"text/javascript\" src=\"/common/js/device.js?_2021022601\"></script>\\n<link rel=\"stylesheet\" href=\"/common/css/format.css\" />\\n\\n\\t<script>\\n\\t\\tua.loadCSS([\\n\\t\\t\\t\"/common/css/layout.css\",\\n\\t\\t\\t\"/common/css/common.css\",\\n\\t\\t\\t\"/common/css/bis_teams.css\"\\n\\t\\t]);\\n\\t</script>\\n\\t<meta property=\"og:type\" content=\"website\">\\n\\t<meta property=\"og:locale\" content=\"ja_JP\">\\n\\t<meta property=\"og:url\" content=\"https://npb.jp/bis/teams/index.html\">\\n\\t<meta property=\"og:site_name\" content=\"NPB.jp \\xe6\\x97\\xa5\\xe6\\x9c\\xac\\xe9\\x87\\x8e\\xe7\\x90\\x83\\xe6\\xa9\\x9f\\xe6\\xa7\\x8b\">\\n\\t<meta property=\"og:title\" content=\"\\xe9\\x81\\xb8\\xe6\\x89\\x8b\\xe4\\xb8\\x80\\xe8\\xa6\\xa7\">\\n\\t<meta property=\"og:description\" content=\"\">\\n\\t<meta property=\"og:image\" content=\"https://npb.jp/img/ogp/default.jpg\">\\n\\t<meta property=\"fb:app_id\" content=\"642572735845596\">\\n\\t<meta name=\"twitter:card\" content=\"summary_large_image\">\\n\\t<title>\\xe9\\x81\\xb8\\xe6\\x89\\x8b\\xe4\\xb8\\x80\\xe8\\xa6\\xa7 | NPB.jp \\xe6\\x97\\xa5\\xe6\\x9c\\xac\\xe9\\x87\\x8e\\xe7\\x90\\x83\\xe6\\xa9\\x9f\\xe6\\xa7\\x8b</title>\\n<script>\\n\\t(function(i,s,o,g,r,a,m){i[\\'GoogleAnalyticsObject\\']=r;i[r]=i[r]||function(){\\n\\t\\t\\t\\t(i[r].q=i[r].q||[]).push(arguments)},i[r].l=1*new Date();a=s.createElement(o),\\n\\t\\t\\tm=s.getElementsByTagName(o)[0];a.async=1;a.src=g;m.parentNode.insertBefore(a,m)\\n\\t})(window,document,\\'script\\',\\'//www.google-analytics.com/analytics.js\\',\\'ga\\');\\n\\n\\tga(\\'create\\', \\'UA-71379438-1\\', \\'auto\\');\\n\\tga(\\'send\\', \\'pageview\\');\\n\\n</script>\\n</head>\\n\\n<body class=\"page_bis\" id=\"ctop\">\\n\\t<div id=\"layout\">\\n<!-- Google Tag Manager (noscript) -->\\n<noscript><iframe src=\"https://www.googletagmanager.com/ns.html?id=GTM-WS88V3F\"\\nheight=\"0\" width=\"0\" style=\"display:none;visibility:hidden\"></iframe></noscript>\\n<!-- End Google Tag Manager (noscript) -->\\n\\n<header>\\n\\t<!-- \\xe8\\xa9\\xa6\\xe5\\x90\\x88\\xe9\\x80\\x9f\\xe5\\xa0\\xb1\\xe3\\x81\\xae\\xe3\\x82\\xa4\\xe3\\x83\\xb3\\xe3\\x82\\xaf\\xe3\\x83\\xab\\xe3\\x83\\xbc\\xe3\\x83\\x89\\xe5\\x8f\\x96\\xe8\\xbe\\xbc \\xe3\\x81\\x93\\xe3\\x81\\x93\\xe3\\x81\\x8b\\xe3\\x82\\x89 -->\\n\\t\\n\\t<!-- \\xe8\\xa9\\xa6\\xe5\\x90\\x88\\xe9\\x80\\x9f\\xe5\\xa0\\xb1\\xe3\\x81\\xae\\xe3\\x82\\xa4\\xe3\\x83\\xb3\\xe3\\x82\\xaf\\xe3\\x83\\xab\\xe3\\x83\\xbc\\xe3\\x83\\x89\\xe5\\x8f\\x96\\xe8\\xbe\\xbc \\xe3\\x81\\x93\\xe3\\x81\\x93\\xe3\\x81\\xbe\\xe3\\x81\\xa7 -->\\n\\n\\t<div id=\"header_team\" class=\"hide_sp\">\\n\\t\\t<div class=\"team_list\">\\n\\t\\t\\t<ul class=\"league\">\\n\\t\\t\\t\\t<li><a href=\"/cl/\" onclick=\"ga(\\'send\\', \\'event\\', \\'header\\', \\'click\\', this.href);\"><img src=\"https://p.npb.jp/img/common/logo/flag_central_s.gif\" width=\"59\" height=\"38\" alt=\"\\xe3\\x82\\xbb\\xe3\\x83\\xb3\\xe3\\x83\\x88\\xe3\\x83\\xa9\\xe3\\x83\\xab\\xe3\\x83\\xbb\\xe3\\x83\\xaa\\xe3\\x83\\xbc\\xe3\\x82\\xb0\" title=\"\\xe3\\x82\\xbb\\xe3\\x83\\xb3\\xe3\\x83\\x88\\xe3\\x83\\xa9\\xe3\\x83\\xab\\xe3\\x83\\xbb\\xe3\\x83\\xaa\\xe3\\x83\\xbc\\xe3\\x82\\xb0\"></a></li>\\n\\t\\t\\t\\t<li><a href=\"http://www.giants.jp/\" target=\"_blank\" onclick=\"ga(\\'send\\', \\'event\\', \\'header\\', \\'click\\', this.href);\"><img src=\"https://p.npb.jp/img/common/logo/2021/logo_g_m.gif\" width=\"38\" height=\"38\" alt=\"\\xe8\\xaa\\xad\\xe5\\xa3\\xb2\\xe3\\x82\\xb8\\xe3\\x83\\xa3\\xe3\\x82\\xa4\\xe3\\x82\\xa2\\xe3\\x83\\xb3\\xe3\\x83\\x84\" title=\"\\xe8\\xaa\\xad\\xe5\\xa3\\xb2\\xe3\\x82\\xb8\\xe3\\x83\\xa3\\xe3\\x82\\xa4\\xe3\\x82\\xa2\\xe3\\x83\\xb3\\xe3\\x83\\x84\"></a></li>\\n\\t\\t\\t\\t<li><a href=\"http://hanshintigers.jp/\" target=\"_blank\" onclick=\"ga(\\'send\\', \\'event\\', \\'header\\', \\'click\\', this.href);\"><img src=\"https://p.npb.jp/img/common/logo/2021/logo_t_m.gif\" width=\"38\" height=\"38\" alt=\"\\xe9\\x98\\xaa\\xe7\\xa5\\x9e\\xe3\\x82\\xbf\\xe3\\x82\\xa4\\xe3\\x82\\xac\\xe3\\x83\\xbc\\xe3\\x82\\xb9\" title=\"\\xe9\\x98\\xaa\\xe7\\xa5\\x9e\\xe3\\x82\\xbf\\xe3\\x82\\xa4\\xe3\\x82\\xac\\xe3\\x83\\xbc\\xe3\\x82\\xb9\"></a></li>\\n\\t\\t\\t\\t<li><a href=\"http://dragons.jp/\" target=\"_blank\" onclick=\"ga(\\'send\\', \\'event\\', \\'header\\', \\'click\\', this.href);\"><img src=\"https://p.npb.jp/img/common/logo/2021/logo_d_m.gif\" width=\"38\" height=\"38\" alt=\"\\xe4\\xb8\\xad\\xe6\\x97\\xa5\\xe3\\x83\\x89\\xe3\\x83\\xa9\\xe3\\x82\\xb4\\xe3\\x83\\xb3\\xe3\\x82\\xba\" title=\"\\xe4\\xb8\\xad\\xe6\\x97\\xa5\\xe3\\x83\\x89\\xe3\\x83\\xa9\\xe3\\x82\\xb4\\xe3\\x83\\xb3\\xe3\\x82\\xba\"></a></li>\\n\\t\\t\\t\\t<li><a href=\"http://www.baystars.co.jp/\" target=\"_blank\" onclick=\"ga(\\'send\\', \\'event\\', \\'header\\', \\'click\\', this.href);\"><img src=\"https://p.npb.jp/img/common/logo/2021/logo_db_m.gif\" width=\"38\" height=\"38\" alt=\"\\xe6\\xa8\\xaa\\xe6\\xb5\\x9cDeNA\\xe3\\x83\\x99\\xe3\\x82\\xa4\\xe3\\x82\\xb9\\xe3\\x82\\xbf\\xe3\\x83\\xbc\\xe3\\x82\\xba\" title=\"\\xe6\\xa8\\xaa\\xe6\\xb5\\x9cDeNA\\xe3\\x83\\x99\\xe3\\x82\\xa4\\xe3\\x82\\xb9\\xe3\\x82\\xbf\\xe3\\x83\\xbc\\xe3\\x82\\xba\"></a></li>\\n\\t\\t\\t\\t<li><a href=\"http://www.carp.co.jp/\" target=\"_blank\" onclick=\"ga(\\'send\\', \\'event\\', \\'header\\', \\'click\\', this.href);\"><img src=\"https://p.npb.jp/img/common/logo/2021/logo_c_m.gif\" width=\"38\" height=\"38\" alt=\"\\xe5\\xba\\x83\\xe5\\xb3\\xb6\\xe6\\x9d\\xb1\\xe6\\xb4\\x8b\\xe3\\x82\\xab\\xe3\\x83\\xbc\\xe3\\x83\\x97\" title=\"\\xe5\\xba\\x83\\xe5\\xb3\\xb6\\xe6\\x9d\\xb1\\xe6\\xb4\\x8b\\xe3\\x82\\xab\\xe3\\x83\\xbc\\xe3\\x83\\x97\"></a></li>\\n\\t\\t\\t\\t<li><a href=\"http://www.yakult-swallows.co.jp/\" target=\"_blank\" onclick=\"ga(\\'send\\', \\'event\\', \\'header\\', \\'click\\', this.href);\"><img src=\"https://p.npb.jp/img/common/logo/2021/logo_s_m.gif\" width=\"38\" height=\"38\" alt=\"\\xe6\\x9d\\xb1\\xe4\\xba\\xac\\xe3\\x83\\xa4\\xe3\\x82\\xaf\\xe3\\x83\\xab\\xe3\\x83\\x88\\xe3\\x82\\xb9\\xe3\\x83\\xaf\\xe3\\x83\\xad\\xe3\\x83\\xbc\\xe3\\x82\\xba\" title=\"\\xe6\\x9d\\xb1\\xe4\\xba\\xac\\xe3\\x83\\xa4\\xe3\\x82\\xaf\\xe3\\x83\\xab\\xe3\\x83\\x88\\xe3\\x82\\xb9\\xe3\\x83\\xaf\\xe3\\x83\\xad\\xe3\\x83\\xbc\\xe3\\x82\\xba\"></a></li>\\n\\t\\t\\t</ul>\\n\\t\\t\\t<ul class=\"league\">\\n\\t\\t\\t\\t<li><a href=\"/pl/\" onclick=\"ga(\\'send\\', \\'event\\', \\'header\\', \\'click\\', this.href);\"><img src=\"https://p.npb.jp/img/common/logo/flag_pacific_s.gif\" width=\"59\" height=\"38\" alt=\"\\xe3\\x83\\x91\\xe3\\x82\\xb7\\xe3\\x83\\x95\\xe3\\x82\\xa3\\xe3\\x83\\x83\\xe3\\x82\\xaf\\xe3\\x83\\xbb\\xe3\\x83\\xaa\\xe3\\x83\\xbc\\xe3\\x82\\xb0\" title=\"\\xe3\\x83\\x91\\xe3\\x82\\xb7\\xe3\\x83\\x95\\xe3\\x82\\xa3\\xe3\\x83\\x83\\xe3\\x82\\xaf\\xe3\\x83\\xbb\\xe3\\x83\\xaa\\xe3\\x83\\xbc\\xe3\\x82\\xb0\"></a></li>\\n\\t\\t\\t\\t<li><a href=\"http://www.softbankhawks.co.jp/\" target=\"_blank\" onclick=\"ga(\\'send\\', \\'event\\', \\'header\\', \\'click\\', this.href);\"><img src=\"https://p.npb.jp/img/common/logo/2021/logo_h_m.gif\" width=\"38\" height=\"38\" alt=\"\\xe7\\xa6\\x8f\\xe5\\xb2\\xa1\\xe3\\x82\\xbd\\xe3\\x83\\x95\\xe3\\x83\\x88\\xe3\\x83\\x90\\xe3\\x83\\xb3\\xe3\\x82\\xaf\\xe3\\x83\\x9b\\xe3\\x83\\xbc\\xe3\\x82\\xaf\\xe3\\x82\\xb9\" title=\"\\xe7\\xa6\\x8f\\xe5\\xb2\\xa1\\xe3\\x82\\xbd\\xe3\\x83\\x95\\xe3\\x83\\x88\\xe3\\x83\\x90\\xe3\\x83\\xb3\\xe3\\x82\\xaf\\xe3\\x83\\x9b\\xe3\\x83\\xbc\\xe3\\x82\\xaf\\xe3\\x82\\xb9\"></a></li>\\n\\t\\t\\t\\t<li><a href=\"http://www.marines.co.jp/\" target=\"_blank\" onclick=\"ga(\\'send\\', \\'event\\', \\'header\\', \\'click\\', this.href);\"><img src=\"https://p.npb.jp/img/common/logo/2021/logo_m_m.gif\" width=\"38\" height=\"38\" alt=\"\\xe5\\x8d\\x83\\xe8\\x91\\x89\\xe3\\x83\\xad\\xe3\\x83\\x83\\xe3\\x83\\x86\\xe3\\x83\\x9e\\xe3\\x83\\xaa\\xe3\\x83\\xbc\\xe3\\x83\\xb3\\xe3\\x82\\xba\" title=\"\\xe5\\x8d\\x83\\xe8\\x91\\x89\\xe3\\x83\\xad\\xe3\\x83\\x83\\xe3\\x83\\x86\\xe3\\x83\\x9e\\xe3\\x83\\xaa\\xe3\\x83\\xbc\\xe3\\x83\\xb3\\xe3\\x82\\xba\"></a></li>\\n\\t\\t\\t\\t<li><a href=\"http://www.seibulions.jp/\" target=\"_blank\" onclick=\"ga(\\'send\\', \\'event\\', \\'header\\', \\'click\\', this.href);\"><img src=\"https://p.npb.jp/img/common/logo/2021/logo_l_m.gif\" width=\"38\" height=\"38\" alt=\"\\xe5\\x9f\\xbc\\xe7\\x8e\\x89\\xe8\\xa5\\xbf\\xe6\\xad\\xa6\\xe3\\x83\\xa9\\xe3\\x82\\xa4\\xe3\\x82\\xaa\\xe3\\x83\\xb3\\xe3\\x82\\xba\" title=\"\\xe5\\x9f\\xbc\\xe7\\x8e\\x89\\xe8\\xa5\\xbf\\xe6\\xad\\xa6\\xe3\\x83\\xa9\\xe3\\x82\\xa4\\xe3\\x82\\xaa\\xe3\\x83\\xb3\\xe3\\x82\\xba\"></a></li>\\t\\t\\t\\t\\n\\t\\t\\t\\t<li><a href=\"http://www.rakuteneagles.jp/\" target=\"_blank\" onclick=\"ga(\\'send\\', \\'event\\', \\'header\\', \\'click\\', this.href);\"><img src=\"https://p.npb.jp/img/common/logo/2021/logo_e_m.gif\" width=\"38\" height=\"38\" alt=\"\\xe6\\x9d\\xb1\\xe5\\x8c\\x97\\xe6\\xa5\\xbd\\xe5\\xa4\\xa9\\xe3\\x82\\xb4\\xe3\\x83\\xbc\\xe3\\x83\\xab\\xe3\\x83\\x87\\xe3\\x83\\xb3\\xe3\\x82\\xa4\\xe3\\x83\\xbc\\xe3\\x82\\xb0\\xe3\\x83\\xab\\xe3\\x82\\xb9\" title=\"\\xe6\\x9d\\xb1\\xe5\\x8c\\x97\\xe6\\xa5\\xbd\\xe5\\xa4\\xa9\\xe3\\x82\\xb4\\xe3\\x83\\xbc\\xe3\\x83\\xab\\xe3\\x83\\x87\\xe3\\x83\\xb3\\xe3\\x82\\xa4\\xe3\\x83\\xbc\\xe3\\x82\\xb0\\xe3\\x83\\xab\\xe3\\x82\\xb9\"></a></li>\\t\\t\\t\\t\\n\\t\\t\\t\\t<li><a href=\"http://www.fighters.co.jp/\" target=\"_blank\" onclick=\"ga(\\'send\\', \\'event\\', \\'header\\', \\'click\\', this.href);\"><img src=\"https://p.npb.jp/img/common/logo/2021/logo_f_m.gif\" width=\"38\" height=\"38\" alt=\"\\xe5\\x8c\\x97\\xe6\\xb5\\xb7\\xe9\\x81\\x93\\xe6\\x97\\xa5\\xe6\\x9c\\xac\\xe3\\x83\\x8f\\xe3\\x83\\xa0\\xe3\\x83\\x95\\xe3\\x82\\xa1\\xe3\\x82\\xa4\\xe3\\x82\\xbf\\xe3\\x83\\xbc\\xe3\\x82\\xba\" title=\"\\xe5\\x8c\\x97\\xe6\\xb5\\xb7\\xe9\\x81\\x93\\xe6\\x97\\xa5\\xe6\\x9c\\xac\\xe3\\x83\\x8f\\xe3\\x83\\xa0\\xe3\\x83\\x95\\xe3\\x82\\xa1\\xe3\\x82\\xa4\\xe3\\x82\\xbf\\xe3\\x83\\xbc\\xe3\\x82\\xba\"></a></li>\\n\\t\\t\\t\\t<li><a href=\"http://www.buffaloes.co.jp/\" target=\"_blank\" onclick=\"ga(\\'send\\', \\'event\\', \\'header\\', \\'click\\', this.href);\"><img src=\"https://p.npb.jp/img/common/logo/2021/logo_b_m.gif\" width=\"38\" height=\"38\" alt=\"\\xe3\\x82\\xaa\\xe3\\x83\\xaa\\xe3\\x83\\x83\\xe3\\x82\\xaf\\xe3\\x82\\xb9\\xe3\\x83\\xbb\\xe3\\x83\\x90\\xe3\\x83\\x95\\xe3\\x82\\xa1\\xe3\\x83\\xad\\xe3\\x83\\xbc\\xe3\\x82\\xba\" title=\"\\xe3\\x82\\xaa\\xe3\\x83\\xaa\\xe3\\x83\\x83\\xe3\\x82\\xaf\\xe3\\x82\\xb9\\xe3\\x83\\xbb\\xe3\\x83\\x90\\xe3\\x83\\x95\\xe3\\x82\\xa1\\xe3\\x83\\xad\\xe3\\x83\\xbc\\xe3\\x82\\xba\"></a></li>\\n\\t\\t\\t</ul>\\n\\t\\t\\t<ul class=\"samurai\">\\n\\t\\t\\t\\t<li><a href=\"http://www.japan-baseball.jp/\" target=\"_blank\" onclick=\"ga(\\'send\\', \\'event\\', \\'header\\', \\'click\\', this.href);\"><img src=\"https://p.npb.jp/img/common/logo/logo_samurai_s.gif\" width=\"49\" height=\"49\" alt=\"\\xe4\\xbe\\x8d\\xe3\\x82\\xb8\\xe3\\x83\\xa3\\xe3\\x83\\x91\\xe3\\x83\\xb3\" title=\"\\xe4\\xbe\\x8d\\xe3\\x82\\xb8\\xe3\\x83\\xa3\\xe3\\x83\\x91\\xe3\\x83\\xb3\"></a></li>\\n\\t\\t\\t</ul>\\n\\t\\t</div>\\n\\t</div>\\n\\n\\t<div id=\"header_nav\">\\n\\t\\t<div class=\"wrap\">\\n\\t\\t\\t<h1><a href=\"/\">\\xe6\\x97\\xa5\\xe6\\x9c\\xac\\xe9\\x87\\x8e\\xe7\\x90\\x83\\xe6\\xa9\\x9f\\xe6\\xa7\\x8b\\xe3\\x82\\xaa\\xe3\\x83\\x95\\xe3\\x82\\xa3\\xe3\\x82\\xb7\\xe3\\x83\\xa3\\xe3\\x83\\xab\\xe3\\x82\\xb5\\xe3\\x82\\xa4\\xe3\\x83\\x88</a></h1>\\n\\t\\t\\t<nav>\\n\\t\\t\\t\\t<ul>\\n\\t\\t\\t\\t\\t<li>\\n\\t\\t\\t\\t\\t\\t<a href=\"/games/\">\\xe8\\xa9\\xa6\\xe5\\x90\\x88</a>\\n\\t\\t\\t\\t\\t\\t<div class=\"menu unit\">\\n\\t\\t\\t\\t\\t\\t\\t<ul>\\n\\t\\t\\t\\t\\t\\t\\t\\t<li><a href=\"/games/\">\\xe3\\x82\\xbb\\xe3\\x83\\xbb\\xe3\\x83\\x91\\xe5\\x85\\xac\\xe5\\xbc\\x8f\\xe6\\x88\\xa6</a></li>\\n\\t\\t\\t\\t\\t\\t\\t\\t<li><a href=\"/announcement/\">\\xe5\\x85\\xac\\xe7\\xa4\\xba</a></li>\\n\\t\\t\\t\\t\\t\\t\\t\\t<li><a href=\"/interleague/\">\\xe3\\x82\\xbb\\xe3\\x83\\xbb\\xe3\\x83\\x91\\xe4\\xba\\xa4\\xe6\\xb5\\x81\\xe6\\x88\\xa6</a></li>\\n\\t\\t\\t\\t\\t\\t\\t\\t<li><a href=\"/nippons/\">\\xe6\\x97\\xa5\\xe6\\x9c\\xac\\xe3\\x82\\xb7\\xe3\\x83\\xaa\\xe3\\x83\\xbc\\xe3\\x82\\xba</a></li>\\n\\t\\t\\t\\t\\t\\t\\t\\t<li><a href=\"/allstar/\">\\xe3\\x82\\xaa\\xe3\\x83\\xbc\\xe3\\x83\\xab\\xe3\\x82\\xb9\\xe3\\x82\\xbf\\xe3\\x83\\xbc\\xe3\\x83\\xbb\\xe3\\x82\\xb2\\xe3\\x83\\xbc\\xe3\\x83\\xa0</a></li>\\n\\t\\t\\t\\t\\t\\t\\t\\t<li><a href=\"/preseason/\">\\xe3\\x82\\xaa\\xe3\\x83\\xbc\\xe3\\x83\\x97\\xe3\\x83\\xb3\\xe6\\x88\\xa6</a></li>\\n\\t\\t\\t\\t\\t\\t\\t</ul>\\n\\t\\t\\t\\t\\t\\t\\t<ul>\\n\\t\\t\\t\\t\\t\\t\\t\\t<li><a href=\"/farm/\">\\xe3\\x83\\x95\\xe3\\x82\\xa1\\xe3\\x83\\xbc\\xe3\\x83\\xa0\\xe5\\x85\\xac\\xe5\\xbc\\x8f\\xe6\\x88\\xa6</a></li>\\n\\t\\t\\t\\t\\t\\t\\t\\t<li><a href=\"/farmchamp/\">\\xe3\\x83\\x95\\xe3\\x82\\xa1\\xe3\\x83\\xbc\\xe3\\x83\\xa0\\xe6\\x97\\xa5\\xe6\\x9c\\xac\\xe9\\x81\\xb8\\xe6\\x89\\x8b\\xe6\\xa8\\xa9</a></li>\\n\\t\\t\\t\\t\\t\\t\\t\\t<li><a href=\"/freshas/\">\\xe3\\x83\\x95\\xe3\\x83\\xac\\xe3\\x83\\x83\\xe3\\x82\\xb7\\xe3\\x83\\xa5\\xe3\\x82\\xaa\\xe3\\x83\\xbc\\xe3\\x83\\xab\\xe3\\x82\\xb9\\xe3\\x82\\xbf\\xe3\\x83\\xbc\\xe3\\x83\\xbb\\xe3\\x82\\xb2\\xe3\\x83\\xbc\\xe3\\x83\\xa0</a></li>\\n\\t\\t\\t\\t\\t\\t\\t\\t<li><a href=\"/challenge/\">\\xe3\\x82\\xa4\\xe3\\x83\\xbc\\xe3\\x82\\xb9\\xe3\\x82\\xbf\\xe3\\x83\\xb3\\xe3\\x83\\xbb\\xe3\\x83\\xaa\\xe3\\x83\\xbc\\xe3\\x82\\xb0 \\xe3\\x83\\x81\\xe3\\x83\\xa3\\xe3\\x83\\xac\\xe3\\x83\\xb3\\xe3\\x82\\xb8\\xe3\\x83\\xbb\\xe3\\x83\\x9e\\xe3\\x83\\x83\\xe3\\x83\\x81</a></li>\\n\\t\\t\\t\\t\\t\\t\\t\\t<li><a href=\"/preseason_farm/\">\\xe6\\x98\\xa5\\xe5\\xad\\xa3\\xe6\\x95\\x99\\xe8\\x82\\xb2\\xe3\\x83\\xaa\\xe3\\x83\\xbc\\xe3\\x82\\xb0</a></li>\\n\\t\\t\\t\\t\\t\\t\\t\\t<li><a href=\"/phoenix/\">\\xe7\\xa7\\x8b\\xe5\\xad\\xa3\\xe6\\x95\\x99\\xe8\\x82\\xb2\\xe3\\x83\\xaa\\xe3\\x83\\xbc\\xe3\\x82\\xb0</a></li>\\n\\t\\t\\t\\t\\t\\t\\t</ul>\\n\\t\\t\\t\\t\\t\\t\\t<ul>\\n\\t\\t\\t\\t\\t\\t\\t\\t<li><a href=\"/exhibition/\">\\xe7\\x89\\xb9\\xe5\\x88\\xa5\\xe8\\xa9\\xa6\\xe5\\x90\\x88</a></li>\\n\\t\\t\\t\\t\\t\\t\\t</ul>\\n\\t\\t\\t\\t\\t\\t</div>\\n\\t\\t\\t\\t\\t</li>\\n\\t\\t\\t\\t\\t<li>\\n\\t\\t\\t\\t\\t\\t<a href=\"/bis/2020/stats/\">\\xe6\\x88\\x90\\xe7\\xb8\\xbe\\xe3\\x83\\xbb\\xe8\\xa8\\x98\\xe9\\x8c\\xb2</a>\\n\\t\\t\\t\\t\\t\\t<div class=\"menu unit\">\\n\\t\\t\\t\\t\\t\\t\\t<ul>\\n\\t\\t\\t\\t\\t\\t\\t\\t<li><a href=\"/bis/2021/stats/\">\\xe3\\x82\\xb7\\xe3\\x83\\xbc\\xe3\\x82\\xba\\xe3\\x83\\xb3\\xe6\\x88\\x90\\xe7\\xb8\\xbe</a></li>\\n\\t\\t\\t\\t\\t\\t\\t\\t<li><a href=\"/award/\">\\xe8\\xa1\\xa8\\xe5\\xbd\\xb0\\xe9\\x81\\xb8\\xe6\\x89\\x8b</a></li>\\n\\t\\t\\t\\t\\t\\t\\t\\t<li><a href=\"/history/\">\\xe9\\x81\\x94\\xe6\\x88\\x90\\xe8\\xa8\\x98\\xe9\\x8c\\xb2</a></li>\\n\\t\\t\\t\\t\\t\\t\\t\\t<li><a href=\"/bis/yearly/\">\\xe5\\xb9\\xb4\\xe5\\xba\\xa6\\xe5\\x88\\xa5\\xe6\\x88\\x90\\xe7\\xb8\\xbe\\xef\\xbc\\x881936-2020\\xef\\xbc\\x89</a></li>\\n\\t\\t\\t\\t\\t\\t\\t\\t<li><a href=\"/bis/history/\">\\xe6\\xad\\xb4\\xe4\\xbb\\xa3\\xe6\\x9c\\x80\\xe9\\xab\\x98\\xe8\\xa8\\x98\\xe9\\x8c\\xb2\\xef\\xbc\\x88\\xe9\\x80\\x9a\\xe7\\xae\\x97\\xe8\\xa8\\x98\\xe9\\x8c\\xb2\\xe3\\x83\\xbb\\xe3\\x82\\xb7\\xe3\\x83\\xbc\\xe3\\x82\\xba\\xe3\\x83\\xb3\\xe8\\xa8\\x98\\xe9\\x8c\\xb2\\xef\\xbc\\x89</a></li>\\n\\t\\t\\t\\t\\t\\t\\t\\t<li><a href=\"/stadium/\">\\xe7\\x90\\x83\\xe5\\xa0\\xb4\\xe6\\x83\\x85\\xe5\\xa0\\xb1</a></li>\\n\\t\\t\\t\\t\\t\\t\\t</ul>\\n\\t\\t\\t\\t\\t\\t\\t<ul>\\n\\t\\t\\t\\t\\t\\t\\t\\t<li><a href=\"/statistics/\">\\xe7\\xb5\\xb1\\xe8\\xa8\\x88\\xe3\\x83\\x87\\xe3\\x83\\xbc\\xe3\\x82\\xbf</a></li>\\n\\t\\t\\t\\t\\t\\t\\t\\t<li><a href=\"/scoring/\">\\xe9\\x87\\x8e\\xe7\\x90\\x83\\xe3\\x81\\xae\\xe8\\xa8\\x98\\xe9\\x8c\\xb2\\xe3\\x81\\xab\\xe3\\x81\\xa4\\xe3\\x81\\x84\\xe3\\x81\\xa6</a></li>\\n\\t\\t\\t\\t\\t\\t\\t</ul>\\n\\t\\t\\t\\t\\t\\t</div>\\n\\t\\t\\t\\t\\t</li>\\n\\t\\t\\t\\t\\t<li>\\n\\t\\t\\t\\t\\t\\t<a href=\"/teams/\">\\xe7\\x90\\x83\\xe5\\x9b\\xa3\\xe3\\x83\\xbb\\xe9\\x81\\xb8\\xe6\\x89\\x8b</a>\\n\\t\\t\\t\\t\\t\\t<div class=\"menu unit\">\\n\\t\\t\\t\\t\\t\\t\\t<ul>\\n\\t\\t\\t\\t\\t\\t\\t\\t<li><a href=\"/teams/\">\\xe7\\x90\\x83\\xe5\\x9b\\xa3\\xe5\\x88\\xa5\\xe3\\x82\\xa4\\xe3\\x83\\xb3\\xe3\\x83\\x87\\xe3\\x83\\x83\\xe3\\x82\\xaf\\xe3\\x82\\xb9</a></li>\\n\\t\\t\\t\\t\\t\\t\\t\\t<li><a href=\"/bis/teams/\">\\xe9\\x81\\xb8\\xe6\\x89\\x8b\\xe4\\xb8\\x80\\xe8\\xa6\\xa7</a></li>\\n\\t\\t\\t\\t\\t\\t\\t\\t<li><a href=\"/bis/players/\">\\xe5\\x80\\x8b\\xe4\\xba\\xba\\xe5\\xb9\\xb4\\xe5\\xba\\xa6\\xe5\\x88\\xa5\\xe6\\x88\\x90\\xe7\\xb8\\xbe</a></li>\\n\\t\\t\\t\\t\\t\\t\\t\\t<li><a href=\"/history/register/\">\\xe3\\x83\\x97\\xe3\\x83\\xad\\xe9\\x87\\x8e\\xe7\\x90\\x83\\xe5\\x9c\\xa8\\xe7\\xb1\\x8d\\xe8\\x80\\x85\\xe5\\x90\\x8d\\xe7\\xb0\\xbf</a></li>\\n\\t\\t\\t\\t\\t\\t\\t\\t<li><a href=\"/announcement/\">\\xe5\\x85\\xac\\xe7\\xa4\\xba</a></li>\\n\\t\\t\\t\\t\\t\\t\\t\\t<li><a href=\"/draft/\">\\xe3\\x83\\x89\\xe3\\x83\\xa9\\xe3\\x83\\x95\\xe3\\x83\\x88\\xe4\\xbc\\x9a\\xe8\\xad\\xb0</a></li>\\n\\t\\t\\t\\t\\t\\t\\t</ul>\\n\\t\\t\\t\\t\\t\\t\\t<ul>\\n\\t\\t\\t\\t\\t\\t\\t\\t<li><a href=\"/camp/\">\\xe3\\x82\\xad\\xe3\\x83\\xa3\\xe3\\x83\\xb3\\xe3\\x83\\x97\\xe3\\x82\\xac\\xe3\\x82\\xa4\\xe3\\x83\\x89</a></li>\\n\\t\\t\\t\\t\\t\\t\\t\\t<li><a href=\"/cl/\">\\xe3\\x82\\xbb\\xe3\\x83\\xb3\\xe3\\x83\\x88\\xe3\\x83\\xa9\\xe3\\x83\\xab\\xe3\\x83\\xbb\\xe3\\x83\\xaa\\xe3\\x83\\xbc\\xe3\\x82\\xb0</a></li>\\n\\t\\t\\t\\t\\t\\t\\t\\t<li><a href=\"/pl/\">\\xe3\\x83\\x91\\xe3\\x82\\xb7\\xe3\\x83\\x95\\xe3\\x82\\xa3\\xe3\\x83\\x83\\xe3\\x82\\xaf\\xe3\\x83\\xbb\\xe3\\x83\\xaa\\xe3\\x83\\xbc\\xe3\\x82\\xb0</a></li>\\n\\t\\t\\t\\t\\t\\t\\t\\t<li><a href=\"/umpires/\">\\xe5\\xaf\\xa9\\xe5\\x88\\xa4\\xe5\\x93\\xa1\\xe3\\x83\\xbb\\xe8\\xa8\\x98\\xe9\\x8c\\xb2\\xe5\\x93\\xa1</a></li>\\n\\t\\t\\t\\t\\t\\t\\t</ul>\\n\\t\\t\\t\\t\\t\\t</div>\\n\\t\\t\\t\\t\\t</li>\\n\\t\\t\\t\\t\\t<li>\\n\\t\\t\\t\\t\\t\\t<a href=\"/premier/2019/\">\\xe6\\x97\\xa5\\xe6\\x9c\\xac\\xe4\\xbb\\xa3\\xe8\\xa1\\xa8</a>\\n\\t\\t\\t\\t\\t\\t<div class=\"menu unit\">\\n\\t\\t\\t\\t\\t\\t\\t<ul>\\n\\t\\t\\t\\t\\t\\t\\t\\t<li><a href=\"/wbc/\">\\xe3\\x83\\xaf\\xe3\\x83\\xbc\\xe3\\x83\\xab\\xe3\\x83\\x89\\xe3\\x83\\xbb\\xe3\\x83\\x99\\xe3\\x83\\xbc\\xe3\\x82\\xb9\\xe3\\x83\\x9c\\xe3\\x83\\xbc\\xe3\\x83\\xab\\xe3\\x83\\xbb\\xe3\\x82\\xaf\\xe3\\x83\\xa9\\xe3\\x82\\xb7\\xe3\\x83\\x83\\xe3\\x82\\xaf</a></li>\\n\\t\\t\\t\\t\\t\\t\\t\\t<li><a href=\"/premier/\">WBSC \\xe3\\x83\\x97\\xe3\\x83\\xac\\xe3\\x83\\x9f\\xe3\\x82\\xa212</a></li>\\n\\t\\t\\t\\t\\t\\t\\t\\t<li><a href=\"/olympic/\">\\xe3\\x82\\xaa\\xe3\\x83\\xaa\\xe3\\x83\\xb3\\xe3\\x83\\x94\\xe3\\x83\\x83\\xe3\\x82\\xaf\\xe7\\xab\\xb6\\xe6\\x8a\\x80\\xe5\\xa4\\xa7\\xe4\\xbc\\x9a</a></li>\\n\\t\\t\\t\\t\\t\\t\\t\\t<li><a href=\"/apbc/\">\\xe3\\x82\\xa2\\xe3\\x82\\xb8\\xe3\\x82\\xa2 \\xe3\\x83\\x97\\xe3\\x83\\xad\\xe9\\x87\\x8e\\xe7\\x90\\x83\\xe3\\x83\\x81\\xe3\\x83\\xa3\\xe3\\x83\\xb3\\xe3\\x83\\x94\\xe3\\x82\\xaa\\xe3\\x83\\xb3\\xe3\\x82\\xb7\\xe3\\x83\\x83\\xe3\\x83\\x97</a></li>\\n\\t\\t\\t\\t\\t\\t\\t\\t<li><a href=\"/japan/\">\\xe4\\xbe\\x8d\\xe3\\x82\\xb8\\xe3\\x83\\xa3\\xe3\\x83\\x91\\xe3\\x83\\xb3\\xe5\\xbc\\xb7\\xe5\\x8c\\x96\\xe8\\xa9\\xa6\\xe5\\x90\\x88</a></li>\\n\\t\\t\\t\\t\\t\\t\\t\\t<li><a href=\"/japanus/\">\\xe6\\x97\\xa5\\xe7\\xb1\\xb3\\xe9\\x87\\x8e\\xe7\\x90\\x83</a></li>\\n\\t\\t\\t\\t\\t\\t\\t</ul>\\n\\t\\t\\t\\t\\t\\t\\t<ul>\\n\\t\\t\\t\\t\\t\\t\\t\\t<li><a href=\"/alljapan/\">\\xe9\\x87\\x8e\\xe7\\x90\\x83\\xe6\\x97\\xa5\\xe6\\x9c\\xac\\xe4\\xbb\\xa3\\xe8\\xa1\\xa8\\xef\\xbc\\x88\\xe3\\x81\\x9d\\xe3\\x81\\xae\\xe4\\xbb\\x96\\xef\\xbc\\x89</a></li>\\n\\t\\t\\t\\t\\t\\t\\t\\t<li><a href=\"/asia/\">\\xe3\\x82\\xa2\\xe3\\x82\\xb8\\xe3\\x82\\xa2\\xe3\\x82\\xb7\\xe3\\x83\\xaa\\xe3\\x83\\xbc\\xe3\\x82\\xba\\xef\\xbc\\x8f\\xe6\\x97\\xa5\\xe9\\x9f\\x93\\xe3\\x82\\xaf\\xe3\\x83\\xa9\\xe3\\x83\\x96CS</a></li>\\n\\t\\t\\t\\t\\t\\t\\t\\t<li><a href=\"/winterleague/\">\\xe3\\x82\\xa6\\xe3\\x82\\xa4\\xe3\\x83\\xb3\\xe3\\x82\\xbf\\xe3\\x83\\xbc\\xe3\\x83\\xbb\\xe3\\x83\\xaa\\xe3\\x83\\xbc\\xe3\\x82\\xb0</a></li>\\n\\t\\t\\t\\t\\t\\t\\t</ul>\\n\\t\\t\\t\\t\\t\\t</div>\\n\\t\\t\\t\\t\\t</li>\\n\\t\\t\\t\\t\\t<li>\\n\\t\\t\\t\\t\\t\\t<a href=\"/news/npb_all.html\">\\xe3\\x83\\x8b\\xe3\\x83\\xa5\\xe3\\x83\\xbc\\xe3\\x82\\xb9</a>\\n\\t\\t\\t\\t\\t\\t<div class=\"menu unit\">\\n\\t\\t\\t\\t\\t\\t\\t<ul>\\n\\t\\t\\t\\t\\t\\t\\t\\t<li><a href=\"/news/npb_all.html\">NPB\\xe3\\x83\\x8b\\xe3\\x83\\xa5\\xe3\\x83\\xbc\\xe3\\x82\\xb9</a></li>\\n\\t\\t\\t\\t\\t\\t\\t\\t<li><a href=\"/news/teamnews_all.html\">12\\xe7\\x90\\x83\\xe5\\x9b\\xa3\\xe3\\x83\\x8b\\xe3\\x83\\xa5\\xe3\\x83\\xbc\\xe3\\x82\\xb9</a></li>\\n\\t\\t\\t\\t\\t\\t\\t\\t<li><a href=\"/npb/#ctg56\">\\xe6\\x96\\xb0\\xe5\\x9e\\x8b\\xe3\\x82\\xb3\\xe3\\x83\\xad\\xe3\\x83\\x8a\\xe3\\x82\\xa6\\xe3\\x82\\xa4\\xe3\\x83\\xab\\xe3\\x82\\xb9\\xe6\\x84\\x9f\\xe6\\x9f\\x93\\xe7\\x97\\x87\\xe5\\xaf\\xbe\\xe7\\xad\\x96</a></li>\\n\\t\\t\\t\\t\\t\\t\\t\\t<li><a href=\"/npb/\">NPB\\xe3\\x81\\x8b\\xe3\\x82\\x89\\xe3\\x81\\xae\\xe3\\x81\\x8a\\xe7\\x9f\\xa5\\xe3\\x82\\x89\\xe3\\x81\\x9b</a></li>\\n\\t\\t\\t\\t\\t\\t\\t\\t<li><a href=\"/event/\">\\xe3\\x83\\x97\\xe3\\x83\\xad\\xe9\\x87\\x8e\\xe7\\x90\\x83\\xe5\\xb9\\xb4\\xe9\\x96\\x93\\xe8\\xa1\\x8c\\xe4\\xba\\x8b\\xe6\\x97\\xa5\\xe7\\xa8\\x8b</a></li>\\n\\t\\t\\t\\t\\t\\t\\t\\t<!-- <li><a href=\"/event/nenkan/\">\\xe3\\x82\\xb9\\xe3\\x82\\xb1\\xe3\\x82\\xb8\\xe3\\x83\\xa5\\xe3\\x83\\xbc\\xe3\\x83\\xab\\xe3\\x82\\xab\\xe3\\x83\\xac\\xe3\\x83\\xb3\\xe3\\x83\\x80\\xe3\\x83\\xbc</a></li> -->\\n\\t\\t\\t\\t\\t\\t\\t\\t<li><a href=\"/video/\">NPB\\xe3\\x83\\xa0\\xe3\\x83\\xbc\\xe3\\x83\\x93\\xe3\\x83\\xbc</a></li>\\n\\t\\t\\t\\t\\t\\t\\t</ul>\\n\\t\\t\\t\\t\\t\\t</div>\\n\\t\\t\\t\\t\\t</li>\\n\\t\\t\\t\\t\\t<li>\\n\\t\\t\\t\\t\\t\\t<a href=\"/slogan/\">\\xe4\\xba\\x8b\\xe6\\xa5\\xad\\xe3\\x83\\xbb\\xe6\\x8c\\xaf\\xe8\\x88\\x88</a>\\n\\t\\t\\t\\t\\t\\t<div class=\"menu unit\">\\n\\t\\t\\t\\t\\t\\t\\t<ul>\\n\\t\\t\\t\\t\\t\\t\\t\\t<li><a href=\"/slogan/\">NPB\\xe3\\x82\\xb9\\xe3\\x83\\xad\\xe3\\x83\\xbc\\xe3\\x82\\xac\\xe3\\x83\\xb3</a></li>\\n\\t\\t\\t\\t\\t\\t\\t\\t<li><a href=\"/npb/#ctg01\">\\xe8\\xa9\\xa6\\xe5\\x90\\x88\\xe8\\xa6\\xb3\\xe6\\x88\\xa6\\xe5\\xa5\\x91\\xe7\\xb4\\x84\\xe7\\xb4\\x84\\xe6\\xac\\xbe/\\xe6\\x9a\\xb4\\xe5\\x8a\\x9b\\xe5\\x9b\\xa3\\xe7\\xad\\x89\\xe6\\x8e\\x92\\xe9\\x99\\xa4\\xe6\\xb4\\xbb\\xe5\\x8b\\x95</a></li>\\n\\t\\t\\t\\t\\t\\t\\t\\t<li><a href=\"/npb/batmakers.html\">NPB\\xe5\\x85\\xac\\xe8\\xaa\\x8d\\xe3\\x83\\x90\\xe3\\x83\\x83\\xe3\\x83\\x88\\xe3\\x83\\xa1\\xe3\\x83\\xbc\\xe3\\x82\\xab\\xe3\\x83\\xbc\\xe4\\xb8\\x80\\xe8\\xa6\\xa7</a></li>\\n\\t\\t\\t\\t\\t\\t\\t\\t<li><a href=\"/anti-doping/\">\\xe3\\x82\\xa2\\xe3\\x83\\xb3\\xe3\\x83\\x81\\xe3\\x83\\xbb\\xe3\\x83\\x89\\xe3\\x83\\xbc\\xe3\\x83\\x94\\xe3\\x83\\xb3\\xe3\\x82\\xb0</a></li>\\n\\t\\t\\t\\t\\t\\t\\t\\t<li><a href=\"/rookie/\">\\xe6\\x96\\xb0\\xe4\\xba\\xba\\xe9\\x81\\xb8\\xe6\\x89\\x8b\\xe7\\xa0\\x94\\xe4\\xbf\\xae\\xe4\\xbc\\x9a</a></li>\\n\\t\\t\\t\\t\\t\\t\\t\\t<li><a href=\"/secondcareer/\">\\xe3\\x82\\xbb\\xe3\\x82\\xab\\xe3\\x83\\xb3\\xe3\\x83\\x89\\xe3\\x82\\xad\\xe3\\x83\\xa3\\xe3\\x83\\xaa\\xe3\\x82\\xa2</a></li>\\n\\t\\t\\t\\t\\t\\t\\t\\t\\n\\t\\t\\t\\t\\t\\t\\t</ul>\\n\\t\\t\\t\\t\\t\\t\\t<ul>\\n\\t\\t\\t\\t\\t\\t\\t\\t<li><a href=\"/npb/kaifuku.html\">\\xe5\\xad\\xa6\\xe7\\x94\\x9f\\xe9\\x87\\x8e\\xe7\\x90\\x83\\xe8\\xb3\\x87\\xe6\\xa0\\xbc\\xe5\\x9b\\x9e\\xe5\\xbe\\xa9\\xe5\\x88\\xb6\\xe5\\xba\\xa6</a></li>\\n\\t\\t\\t\\t\\t\\t\\t\\t<li><a href=\"/umpireschool/\">NPB\\xe3\\x82\\xa2\\xe3\\x83\\xb3\\xe3\\x83\\x91\\xe3\\x82\\xa4\\xe3\\x82\\xa2\\xe3\\x83\\xbb\\xe3\\x82\\xb9\\xe3\\x82\\xaf\\xe3\\x83\\xbc\\xe3\\x83\\xab</a></li>\\n\\t\\t\\t\\t\\t\\t\\t\\t<li><a href=\"/npb/#ctg25\">\\xe9\\x87\\x8e\\xe7\\x90\\x83\\xe6\\x8c\\xaf\\xe8\\x88\\x88</a></li>\\n\\t\\t\\t\\t\\t\\t\\t\\t<li><a href=\"/junior/\">12\\xe7\\x90\\x83\\xe5\\x9b\\xa3\\xe3\\x82\\xb8\\xe3\\x83\\xa5\\xe3\\x83\\x8b\\xe3\\x82\\xa2\\xe3\\x83\\x88\\xe3\\x83\\xbc\\xe3\\x83\\x8a\\xe3\\x83\\xa1\\xe3\\x83\\xb3\\xe3\\x83\\x88</a></li>\\n\\t\\t\\t\\t\\t\\t\\t\\t<li><a href=\"/girls/\">NPB\\xe3\\x82\\xac\\xe3\\x83\\xbc\\xe3\\x83\\xab\\xe3\\x82\\xba\\xe3\\x83\\x88\\xe3\\x83\\xbc\\xe3\\x83\\x8a\\xe3\\x83\\xa1\\xe3\\x83\\xb3\\xe3\\x83\\x88</a></li>\\n\\t\\t\\t\\t\\t\\t\\t\\t<li><a href=\"/npb/#ctg21\">\\xe6\\x9d\\xb1\\xe6\\x97\\xa5\\xe6\\x9c\\xac\\xe5\\xa4\\xa7\\xe9\\x9c\\x87\\xe7\\x81\\xbd\\xe5\\xbe\\xa9\\xe8\\x88\\x88\\xe6\\x94\\xaf\\xe6\\x8f\\xb4</a></li>\\n\\t\\t\\t\\t\\t\\t\\t\\t\\n\\t\\t\\t\\t\\t\\t\\t</ul>\\n\\t\\t\\t\\t\\t\\t\\t<ul>\\n\\t\\t\\t\\t\\t\\t\\t\\t<li><a href=\"/bbfesta/\">\\xe3\\x83\\x99\\xe3\\x83\\xbc\\xe3\\x82\\xb9\\xe3\\x83\\x9c\\xe3\\x83\\xbc\\xe3\\x83\\xab\\xe3\\x83\\x95\\xe3\\x82\\xa7\\xe3\\x82\\xb9\\xe3\\x82\\xbf</a></li>\\n\\t\\t\\t\\t\\t\\t\\t\\t<li><a href=\"/auction/\">\\xe3\\x83\\x81\\xe3\\x83\\xa3\\xe3\\x83\\xaa\\xe3\\x83\\x86\\xe3\\x82\\xa3\\xe3\\x83\\xbc\\xe3\\x82\\xaa\\xe3\\x83\\xbc\\xe3\\x82\\xaf\\xe3\\x82\\xb7\\xe3\\x83\\xa7\\xe3\\x83\\xb3</a></li>\\n\\t\\t\\t\\t\\t\\t\\t\\t<li><a href=\"/gbp/\">NPB Green Baseball Project</a></li>\\n\\t\\t\\t\\t\\t\\t\\t\\t<li><a href=\"/cool/\">\\xe7\\x92\\xb0\\xe5\\xa2\\x83\\xe8\\xb2\\xa2\\xe7\\x8c\\xae\\xe6\\xb4\\xbb\\xe5\\x8b\\x95</a></li>\\n\\t\\t\\t\\t\\t\\t\\t\\t<li><a href=\"/esports/\">e\\xe3\\x82\\xb9\\xe3\\x83\\x9d\\xe3\\x83\\xbc\\xe3\\x83\\x84</a></li>\\n\\t\\t\\t\\t\\t\\t\\t\\t<li><a href=\"/kyogikai/\">\\xe6\\x97\\xa5\\xe6\\x9c\\xac\\xe9\\x87\\x8e\\xe7\\x90\\x83\\xe5\\x8d\\x94\\xe8\\xad\\xb0\\xe4\\xbc\\x9a</a></li>\\n\\t\\t\\t\\t\\t\\t\\t</ul>\\n\\t\\t\\t\\t\\t\\t</div>\\n\\t\\t\\t\\t\\t</li>\\n\\t\\t\\t\\t\\t<li>\\n\\t\\t\\t\\t\\t\\t<a href=\"http://shop.npb.or.jp/npbshop/ad.html?ccd=t10092408\" target=\"_blank\" onclick=\"ga(\\'send\\', \\'event\\', \\'menu\\', \\'click\\', this.href);\">\\xe3\\x82\\xb0\\xe3\\x83\\x83\\xe3\\x82\\xba</a>\\n\\t\\t\\t\\t\\t\\t<div class=\"menu unit\">\\n\\t\\t\\t\\t\\t\\t\\t<ul>\\n\\t\\t\\t\\t\\t\\t\\t\\t<li><a href=\"/books/\">\\xe3\\x82\\xb0\\xe3\\x83\\x83\\xe3\\x82\\xba\\xe3\\x83\\xbb\\xe6\\x9b\\xb8\\xe7\\xb1\\x8d\\xe3\\x81\\xae\\xe3\\x81\\x94\\xe6\\xa1\\x88\\xe5\\x86\\x85</a></li>\\n\\t\\t\\t\\t\\t\\t\\t\\t<li><a href=\"/game/\">\\xe6\\x89\\xbf\\xe8\\xaa\\x8d\\xe3\\x82\\xb2\\xe3\\x83\\xbc\\xe3\\x83\\xa0\\xe3\\x83\\xa1\\xe3\\x83\\xbc\\xe3\\x82\\xab\\xe3\\x83\\xbc</a></li>\\n\\t\\t\\t\\t\\t\\t\\t\\t<li><a href=\"http://shop.npb.or.jp/npbshop/ad.html?ccd=t10092408\" target=\"_blank\" onclick=\"ga(\\'send\\', \\'event\\', \\'gd_menu\\', \\'click\\', this.href);\">NPB\\xe3\\x82\\xaa\\xe3\\x83\\x95\\xe3\\x82\\xa3\\xe3\\x82\\xb7\\xe3\\x83\\xa3\\xe3\\x83\\xab\\xe3\\x82\\xaa\\xe3\\x83\\xb3\\xe3\\x83\\xa9\\xe3\\x82\\xa4\\xe3\\x83\\xb3\\xe3\\x82\\xb7\\xe3\\x83\\xa7\\xe3\\x83\\x83\\xe3\\x83\\x97</a></li>\\n\\t\\t\\t\\t\\t\\t\\t</ul>\\n\\t\\t\\t\\t\\t\\t</div>\\n\\t\\t\\t\\t\\t</li>\\n\\t\\t\\t\\t</ul>\\n\\t\\t\\t</nav>\\n\\t\\t\\t<div class=\"social\">\\n\\t\\t\\t\\t<ul>\\n\\t\\t\\t\\t\\t<li><a href=\"/eng/\">English</a></li>\\n\\t\\t\\t\\t\\t<li class=\"tw\"><a href=\"https://twitter.com/npb\" target=\"_blank\" onclick=\"ga(\\'send\\', \\'event\\', \\'header\\', \\'click\\', this.href);\"></a></li>\\n\\t\\t\\t\\t\\t<li class=\"fb\"><a href=\"https://www.facebook.com/npb.official/\" target=\"_blank\" onclick=\"ga(\\'send\\', \\'event\\', \\'header\\', \\'click\\', this.href);\"></a></li>\\n\\t\\t\\t\\t\\t<li class=\"sp_menu hide_pc\" id=\"sp_menu\"><a href=\"#\"></a></li>\\n\\t\\t\\t\\t</ul>\\n\\t\\t\\t</div>\\n\\t\\t</div>\\n\\t</div>\\n</header>\\n\\n<script>\\n\\tif ( Math.random() > 0.5 ) {\\n\\t\\t$(\"h1\").addClass(\"sh\");\\n\\t}\\n\\telse {\\n\\t\\t$(\"h1\").addClass(\"kd\");\\n\\t}\\n</script>\\n\\n\\n\\n\\n\\t\\t<h2 class=\"cate_bis\">\\n\\t\\t\\t<div>\\n\\t\\t\\t\\t<span id=\"h2_text\">\\xe9\\x81\\xb8\\xe6\\x89\\x8b\\xe4\\xb8\\x80\\xe8\\xa6\\xa7</span>\\n\\t\\t\\t</div>\\n\\t\\t</h2>\\n\\n\\t\\t<div class=\"contents\">\\n\\t\\t\\t<div class=\"wrap\">\\n\\t\\t\\t\\t<h3>2021\\xe5\\xb9\\xb4\\xe5\\xba\\xa6<small>\\xe9\\x81\\xb8\\xe6\\x89\\x8b\\xe4\\xb8\\x80\\xe8\\xa6\\xa7</small></h3>\\n\\t\\t\\t\\t<section id=\"team_list\">\\n\\t\\t\\t\\t\\t<div id=\"cl\">\\n\\t\\t\\t\\t\\t\\t<h4><span>CENTRAL LEAGUE</span></h4>\\n\\t\\t\\t\\t\\t\\t<ul>\\n\\t\\t\\t\\t\\t\\t\\t<li><a href=\"rst_g.html\"><img src=\"https://p.npb.jp/img/common/logo/2021/logo_g_m.png\" title=\"\">\\xe8\\xaa\\xad\\xe5\\xa3\\xb2\\xe3\\x82\\xb8\\xe3\\x83\\xa3\\xe3\\x82\\xa4\\xe3\\x82\\xa2\\xe3\\x83\\xb3\\xe3\\x83\\x84</a></li>\\n\\t\\t\\t\\t\\t\\t\\t<li><a href=\"rst_t.html\"><img src=\"https://p.npb.jp/img/common/logo/2021/logo_t_m.png\" title=\"\">\\xe9\\x98\\xaa\\xe7\\xa5\\x9e\\xe3\\x82\\xbf\\xe3\\x82\\xa4\\xe3\\x82\\xac\\xe3\\x83\\xbc\\xe3\\x82\\xb9</a></li>\\n\\t\\t\\t\\t\\t\\t\\t<li><a href=\"rst_d.html\"><img src=\"https://p.npb.jp/img/common/logo/2021/logo_d_m.png\" title=\"\">\\xe4\\xb8\\xad\\xe6\\x97\\xa5\\xe3\\x83\\x89\\xe3\\x83\\xa9\\xe3\\x82\\xb4\\xe3\\x83\\xb3\\xe3\\x82\\xba</a></li>\\n\\t\\t\\t\\t\\t\\t\\t<li><a href=\"rst_db.html\"><img src=\"https://p.npb.jp/img/common/logo/2021/logo_db_m.png\" title=\"\">\\xe6\\xa8\\xaa\\xe6\\xb5\\x9cDeNA\\xe3\\x83\\x99\\xe3\\x82\\xa4\\xe3\\x82\\xb9\\xe3\\x82\\xbf\\xe3\\x83\\xbc\\xe3\\x82\\xba</a></li>\\n\\t\\t\\t\\t\\t\\t\\t<li><a href=\"rst_c.html\"><img src=\"https://p.npb.jp/img/common/logo/2021/logo_c_m.png\" title=\"\">\\xe5\\xba\\x83\\xe5\\xb3\\xb6\\xe6\\x9d\\xb1\\xe6\\xb4\\x8b\\xe3\\x82\\xab\\xe3\\x83\\xbc\\xe3\\x83\\x97</a></li>\\n\\t\\t\\t\\t\\t\\t\\t<li><a href=\"rst_s.html\"><img src=\"https://p.npb.jp/img/common/logo/2021/logo_s_m.png\" title=\"\">\\xe6\\x9d\\xb1\\xe4\\xba\\xac\\xe3\\x83\\xa4\\xe3\\x82\\xaf\\xe3\\x83\\xab\\xe3\\x83\\x88\\xe3\\x82\\xb9\\xe3\\x83\\xaf\\xe3\\x83\\xad\\xe3\\x83\\xbc\\xe3\\x82\\xba</a></li>\\t\\t\\t\\t\\t\\t\\t\\n\\t\\t\\t\\t\\t\\t</ul>\\n\\t\\t\\t\\t\\t</div>\\n\\t\\t\\t\\t\\t<div id=\"pl\">\\n\\t\\t\\t\\t\\t\\t<h4><span>PACIFIC LEAGUE</span></h4>\\n\\t\\t\\t\\t\\t\\t<ul>\\n\\t\\t\\t\\t\\t\\t\\t<li><a href=\"rst_h.html\"><img src=\"https://p.npb.jp/img/common/logo/2021/logo_h_m.png\" title=\"\">\\xe7\\xa6\\x8f\\xe5\\xb2\\xa1\\xe3\\x82\\xbd\\xe3\\x83\\x95\\xe3\\x83\\x88\\xe3\\x83\\x90\\xe3\\x83\\xb3\\xe3\\x82\\xaf\\xe3\\x83\\x9b\\xe3\\x83\\xbc\\xe3\\x82\\xaf\\xe3\\x82\\xb9</a></li>\\n\\t\\t\\t\\t\\t\\t\\t<li><a href=\"rst_m.html\"><img src=\"https://p.npb.jp/img/common/logo/2021/logo_m_m.png\" title=\"\">\\xe5\\x8d\\x83\\xe8\\x91\\x89\\xe3\\x83\\xad\\xe3\\x83\\x83\\xe3\\x83\\x86\\xe3\\x83\\x9e\\xe3\\x83\\xaa\\xe3\\x83\\xbc\\xe3\\x83\\xb3\\xe3\\x82\\xba</a></li>\\n\\t\\t\\t\\t\\t\\t\\t<li><a href=\"rst_l.html\"><img src=\"https://p.npb.jp/img/common/logo/2021/logo_l_m.png\" title=\"\">\\xe5\\x9f\\xbc\\xe7\\x8e\\x89\\xe8\\xa5\\xbf\\xe6\\xad\\xa6\\xe3\\x83\\xa9\\xe3\\x82\\xa4\\xe3\\x82\\xaa\\xe3\\x83\\xb3\\xe3\\x82\\xba</a></li>\\n\\t\\t\\t\\t\\t\\t\\t<li><a href=\"rst_e.html\"><img src=\"https://p.npb.jp/img/common/logo/2021/logo_e_m.png\" title=\"\">\\xe6\\x9d\\xb1\\xe5\\x8c\\x97\\xe6\\xa5\\xbd\\xe5\\xa4\\xa9\\xe3\\x82\\xb4\\xe3\\x83\\xbc\\xe3\\x83\\xab\\xe3\\x83\\x87\\xe3\\x83\\xb3\\xe3\\x82\\xa4\\xe3\\x83\\xbc\\xe3\\x82\\xb0\\xe3\\x83\\xab\\xe3\\x82\\xb9</a></li>\\n\\t\\t\\t\\t\\t\\t\\t<li><a href=\"rst_f.html\"><img src=\"https://p.npb.jp/img/common/logo/2021/logo_f_m.png\" title=\"\">\\xe5\\x8c\\x97\\xe6\\xb5\\xb7\\xe9\\x81\\x93\\xe6\\x97\\xa5\\xe6\\x9c\\xac\\xe3\\x83\\x8f\\xe3\\x83\\xa0\\xe3\\x83\\x95\\xe3\\x82\\xa1\\xe3\\x82\\xa4\\xe3\\x82\\xbf\\xe3\\x83\\xbc\\xe3\\x82\\xba</a></li>\\n\\t\\t\\t\\t\\t\\t\\t<li><a href=\"rst_b.html\"><img src=\"https://p.npb.jp/img/common/logo/2021/logo_b_m.png\" title=\"\">\\xe3\\x82\\xaa\\xe3\\x83\\xaa\\xe3\\x83\\x83\\xe3\\x82\\xaf\\xe3\\x82\\xb9\\xe3\\x83\\xbb\\xe3\\x83\\x90\\xe3\\x83\\x95\\xe3\\x82\\xa1\\xe3\\x83\\xad\\xe3\\x83\\xbc\\xe3\\x82\\xba</a></li>\\n\\t\\t\\t\\t\\t\\t</ul>\\n\\t\\t\\t\\t\\t</div>\\n\\t\\t\\t\\t</section>\\n\\n\\t\\t\\t\\t<section id=\"note\">\\n\\t\\t\\t\\t\\t<p>\\xe2\\x80\\xbb\\xe9\\x81\\xb8\\xe6\\x89\\x8b\\xe5\\x90\\x8d\\xe3\\x81\\xab\\xe6\\xa9\\x9f\\xe7\\xa8\\xae\\xe4\\xbe\\x9d\\xe5\\xad\\x98\\xe6\\x96\\x87\\xe5\\xad\\x97\\xef\\xbc\\x88\\xe4\\xbd\\xbf\\xe7\\x94\\xa8\\xe7\\x92\\xb0\\xe5\\xa2\\x83\\xe3\\x81\\xab\\xe4\\xbe\\x9d\\xe5\\xad\\x98\\xe3\\x81\\x99\\xe3\\x82\\x8b\\xe6\\x96\\x87\\xe5\\xad\\x97\\xef\\xbc\\x89\\xe3\\x82\\x84\\xe8\\xa1\\xa8\\xe8\\xa8\\x98\\xe3\\x81\\xa7\\xe3\\x81\\x8d\\xe3\\x81\\xaa\\xe3\\x81\\x84\\xe5\\xad\\x97\\xe4\\xbd\\x93\\xe3\\x81\\xaa\\xe3\\x81\\xa9\\xe3\\x82\\x92\\xe5\\x90\\xab\\xe3\\x82\\x80\\xe5\\xa0\\xb4\\xe5\\x90\\x88\\xe3\\x81\\xaf\\xe3\\x80\\x81\\xe3\\x82\\xab\\xe3\\x83\\x8a\\xe8\\xa1\\xa8\\xe8\\xa8\\x98\\xe3\\x81\\xbe\\xe3\\x81\\x9f\\xe3\\x81\\xaf\\xe6\\x9c\\xac\\xe6\\x9d\\xa5\\xe3\\x81\\xae\\xe8\\xa1\\xa8\\xe8\\xa8\\x98\\xe3\\x81\\xa8\\xe3\\x81\\xaf\\xe7\\x95\\xb0\\xe3\\x81\\xaa\\xe3\\x82\\x8b\\xe6\\x96\\x87\\xe5\\xad\\x97\\xe3\\x81\\xab\\xe7\\xbd\\xae\\xe3\\x81\\x8d\\xe6\\x8f\\x9b\\xe3\\x81\\x88\\xe3\\x81\\xa6\\xe3\\x81\\x84\\xe3\\x82\\x8b\\xe5\\xa0\\xb4\\xe5\\x90\\x88\\xe3\\x81\\x8c\\xe3\\x81\\x82\\xe3\\x82\\x8a\\xe3\\x81\\xbe\\xe3\\x81\\x99\\xe3\\x80\\x82</p>\\n\\t\\t\\t\\t\\t<p class=\"right\"><a href=\"/bis/players/note2021.html\" class=\"link_black\">\\xe6\\x9c\\xac\\xe6\\x9d\\xa5\\xe3\\x81\\xae\\xe8\\xa1\\xa8\\xe8\\xa8\\x98\\xe3\\x81\\xa8\\xe7\\x95\\xb0\\xe3\\x81\\xaa\\xe3\\x82\\x8b\\xe5\\xa4\\x89\\xe6\\x8f\\x9b\\xe6\\x96\\x87\\xe5\\xad\\x97\\xe3\\x82\\x92\\xe5\\x90\\xab\\xe3\\x82\\x80\\xe9\\x81\\xb8\\xe6\\x89\\x8b\\xe4\\xb8\\x80\\xe8\\xa6\\xa7</a></p>\\n\\t\\t\\t\\t</section>\\n\\t\\t\\t</div>\\n\\t\\t</div>\\n\\n<footer>\\n\\t<div id=\"footer_team\">\\n\\t\\t<div class=\"team_list\">\\n\\t\\t\\t<ul class=\"league\">\\n\\t\\t\\t\\t<li><a href=\"/cl/\" onclick=\"ga(\\'send\\', \\'event\\', \\'footer\\', \\'click\\', this.href);\"><img src=\"https://p.npb.jp/img/common/logo/flag_central_s.gif\" width=\"59\" height=\"38\" alt=\"\\xe3\\x82\\xbb\\xe3\\x83\\xb3\\xe3\\x83\\x88\\xe3\\x83\\xa9\\xe3\\x83\\xab\\xe3\\x83\\xbb\\xe3\\x83\\xaa\\xe3\\x83\\xbc\\xe3\\x82\\xb0\" title=\"\\xe3\\x82\\xbb\\xe3\\x83\\xb3\\xe3\\x83\\x88\\xe3\\x83\\xa9\\xe3\\x83\\xab\\xe3\\x83\\xbb\\xe3\\x83\\xaa\\xe3\\x83\\xbc\\xe3\\x82\\xb0\"></a></li>\\n\\t\\t\\t\\t<li><a href=\"http://www.giants.jp/\" target=\"_blank\" onclick=\"ga(\\'send\\', \\'event\\', \\'footer\\', \\'click\\', this.href);\"><img src=\"https://p.npb.jp/img/common/logo/2021/logo_g_m.gif\" width=\"38\" height=\"38\" alt=\"\\xe8\\xaa\\xad\\xe5\\xa3\\xb2\\xe3\\x82\\xb8\\xe3\\x83\\xa3\\xe3\\x82\\xa4\\xe3\\x82\\xa2\\xe3\\x83\\xb3\\xe3\\x83\\x84\" title=\"\\xe8\\xaa\\xad\\xe5\\xa3\\xb2\\xe3\\x82\\xb8\\xe3\\x83\\xa3\\xe3\\x82\\xa4\\xe3\\x82\\xa2\\xe3\\x83\\xb3\\xe3\\x83\\x84\"></a></li>\\n\\t\\t\\t\\t<li><a href=\"http://hanshintigers.jp/\" target=\"_blank\" onclick=\"ga(\\'send\\', \\'event\\', \\'footer\\', \\'click\\', this.href);\"><img src=\"https://p.npb.jp/img/common/logo/2021/logo_t_m.gif\" width=\"38\" height=\"38\" alt=\"\\xe9\\x98\\xaa\\xe7\\xa5\\x9e\\xe3\\x82\\xbf\\xe3\\x82\\xa4\\xe3\\x82\\xac\\xe3\\x83\\xbc\\xe3\\x82\\xb9\" title=\"\\xe9\\x98\\xaa\\xe7\\xa5\\x9e\\xe3\\x82\\xbf\\xe3\\x82\\xa4\\xe3\\x82\\xac\\xe3\\x83\\xbc\\xe3\\x82\\xb9\"></a></li>\\n\\t\\t\\t\\t<li><a href=\"http://dragons.jp/\" target=\"_blank\" onclick=\"ga(\\'send\\', \\'event\\', \\'footer\\', \\'click\\', this.href);\"><img src=\"https://p.npb.jp/img/common/logo/2021/logo_d_m.gif\" width=\"38\" height=\"38\" alt=\"\\xe4\\xb8\\xad\\xe6\\x97\\xa5\\xe3\\x83\\x89\\xe3\\x83\\xa9\\xe3\\x82\\xb4\\xe3\\x83\\xb3\\xe3\\x82\\xba\" title=\"\\xe4\\xb8\\xad\\xe6\\x97\\xa5\\xe3\\x83\\x89\\xe3\\x83\\xa9\\xe3\\x82\\xb4\\xe3\\x83\\xb3\\xe3\\x82\\xba\"></a></li>\\n\\t\\t\\t\\t<li><a href=\"http://www.baystars.co.jp/\" target=\"_blank\" onclick=\"ga(\\'send\\', \\'event\\', \\'footer\\', \\'click\\', this.href);\"><img src=\"https://p.npb.jp/img/common/logo/2021/logo_db_m.gif\" width=\"38\" height=\"38\" alt=\"\\xe6\\xa8\\xaa\\xe6\\xb5\\x9cDeNA\\xe3\\x83\\x99\\xe3\\x82\\xa4\\xe3\\x82\\xb9\\xe3\\x82\\xbf\\xe3\\x83\\xbc\\xe3\\x82\\xba\" title=\"\\xe6\\xa8\\xaa\\xe6\\xb5\\x9cDeNA\\xe3\\x83\\x99\\xe3\\x82\\xa4\\xe3\\x82\\xb9\\xe3\\x82\\xbf\\xe3\\x83\\xbc\\xe3\\x82\\xba\"></a></li>\\n\\t\\t\\t\\t<li><a href=\"http://www.carp.co.jp/\" target=\"_blank\" onclick=\"ga(\\'send\\', \\'event\\', \\'footer\\', \\'click\\', this.href);\"><img src=\"https://p.npb.jp/img/common/logo/2021/logo_c_m.gif\" width=\"38\" height=\"38\" alt=\"\\xe5\\xba\\x83\\xe5\\xb3\\xb6\\xe6\\x9d\\xb1\\xe6\\xb4\\x8b\\xe3\\x82\\xab\\xe3\\x83\\xbc\\xe3\\x83\\x97\" title=\"\\xe5\\xba\\x83\\xe5\\xb3\\xb6\\xe6\\x9d\\xb1\\xe6\\xb4\\x8b\\xe3\\x82\\xab\\xe3\\x83\\xbc\\xe3\\x83\\x97\"></a></li>\\n\\t\\t\\t\\t<li><a href=\"http://www.yakult-swallows.co.jp/\" target=\"_blank\" onclick=\"ga(\\'send\\', \\'event\\', \\'footer\\', \\'click\\', this.href);\"><img src=\"https://p.npb.jp/img/common/logo/2021/logo_s_m.gif\" width=\"38\" height=\"38\" alt=\"\\xe6\\x9d\\xb1\\xe4\\xba\\xac\\xe3\\x83\\xa4\\xe3\\x82\\xaf\\xe3\\x83\\xab\\xe3\\x83\\x88\\xe3\\x82\\xb9\\xe3\\x83\\xaf\\xe3\\x83\\xad\\xe3\\x83\\xbc\\xe3\\x82\\xba\" title=\"\\xe6\\x9d\\xb1\\xe4\\xba\\xac\\xe3\\x83\\xa4\\xe3\\x82\\xaf\\xe3\\x83\\xab\\xe3\\x83\\x88\\xe3\\x82\\xb9\\xe3\\x83\\xaf\\xe3\\x83\\xad\\xe3\\x83\\xbc\\xe3\\x82\\xba\"></a></li>\\n\\t\\t\\t</ul>\\n\\t\\t\\t<ul class=\"league\">\\n\\t\\t\\t\\t<li><a href=\"/pl/\" onclick=\"ga(\\'send\\', \\'event\\', \\'footer\\', \\'click\\', this.href);\"><img src=\"https://p.npb.jp/img/common/logo/flag_pacific_s.gif\" width=\"59\" height=\"38\" alt=\"\\xe3\\x83\\x91\\xe3\\x82\\xb7\\xe3\\x83\\x95\\xe3\\x82\\xa3\\xe3\\x83\\x83\\xe3\\x82\\xaf\\xe3\\x83\\xbb\\xe3\\x83\\xaa\\xe3\\x83\\xbc\\xe3\\x82\\xb0\" title=\"\\xe3\\x83\\x91\\xe3\\x82\\xb7\\xe3\\x83\\x95\\xe3\\x82\\xa3\\xe3\\x83\\x83\\xe3\\x82\\xaf\\xe3\\x83\\xbb\\xe3\\x83\\xaa\\xe3\\x83\\xbc\\xe3\\x82\\xb0\"></a></li>\\n\\t\\t\\t\\t<li><a href=\"http://www.softbankhawks.co.jp/\" target=\"_blank\" onclick=\"ga(\\'send\\', \\'event\\', \\'footer\\', \\'click\\', this.href);\"><img src=\"https://p.npb.jp/img/common/logo/2021/logo_h_m.gif\" width=\"38\" height=\"38\" alt=\"\\xe7\\xa6\\x8f\\xe5\\xb2\\xa1\\xe3\\x82\\xbd\\xe3\\x83\\x95\\xe3\\x83\\x88\\xe3\\x83\\x90\\xe3\\x83\\xb3\\xe3\\x82\\xaf\\xe3\\x83\\x9b\\xe3\\x83\\xbc\\xe3\\x82\\xaf\\xe3\\x82\\xb9\" title=\"\\xe7\\xa6\\x8f\\xe5\\xb2\\xa1\\xe3\\x82\\xbd\\xe3\\x83\\x95\\xe3\\x83\\x88\\xe3\\x83\\x90\\xe3\\x83\\xb3\\xe3\\x82\\xaf\\xe3\\x83\\x9b\\xe3\\x83\\xbc\\xe3\\x82\\xaf\\xe3\\x82\\xb9\"></a></li>\\n\\t\\t\\t\\t<li><a href=\"http://www.marines.co.jp/\" target=\"_blank\" onclick=\"ga(\\'send\\', \\'event\\', \\'footer\\', \\'click\\', this.href);\"><img src=\"https://p.npb.jp/img/common/logo/2021/logo_m_m.gif\" width=\"38\" height=\"38\" alt=\"\\xe5\\x8d\\x83\\xe8\\x91\\x89\\xe3\\x83\\xad\\xe3\\x83\\x83\\xe3\\x83\\x86\\xe3\\x83\\x9e\\xe3\\x83\\xaa\\xe3\\x83\\xbc\\xe3\\x83\\xb3\\xe3\\x82\\xba\" title=\"\\xe5\\x8d\\x83\\xe8\\x91\\x89\\xe3\\x83\\xad\\xe3\\x83\\x83\\xe3\\x83\\x86\\xe3\\x83\\x9e\\xe3\\x83\\xaa\\xe3\\x83\\xbc\\xe3\\x83\\xb3\\xe3\\x82\\xba\"></a></li>\\n\\t\\t\\t\\t<li><a href=\"http://www.seibulions.jp/\" target=\"_blank\" onclick=\"ga(\\'send\\', \\'event\\', \\'footer\\', \\'click\\', this.href);\"><img src=\"https://p.npb.jp/img/common/logo/2021/logo_l_m.gif\" width=\"38\" height=\"38\" alt=\"\\xe5\\x9f\\xbc\\xe7\\x8e\\x89\\xe8\\xa5\\xbf\\xe6\\xad\\xa6\\xe3\\x83\\xa9\\xe3\\x82\\xa4\\xe3\\x82\\xaa\\xe3\\x83\\xb3\\xe3\\x82\\xba\" title=\"\\xe5\\x9f\\xbc\\xe7\\x8e\\x89\\xe8\\xa5\\xbf\\xe6\\xad\\xa6\\xe3\\x83\\xa9\\xe3\\x82\\xa4\\xe3\\x82\\xaa\\xe3\\x83\\xb3\\xe3\\x82\\xba\"></a></li>\\n\\t\\t\\t\\t<li><a href=\"http://www.rakuteneagles.jp/\" target=\"_blank\" onclick=\"ga(\\'send\\', \\'event\\', \\'footer\\', \\'click\\', this.href);\"><img src=\"https://p.npb.jp/img/common/logo/2021/logo_e_m.gif\" width=\"38\" height=\"38\" alt=\"\\xe6\\x9d\\xb1\\xe5\\x8c\\x97\\xe6\\xa5\\xbd\\xe5\\xa4\\xa9\\xe3\\x82\\xb4\\xe3\\x83\\xbc\\xe3\\x83\\xab\\xe3\\x83\\x87\\xe3\\x83\\xb3\\xe3\\x82\\xa4\\xe3\\x83\\xbc\\xe3\\x82\\xb0\\xe3\\x83\\xab\\xe3\\x82\\xb9\" title=\"\\xe6\\x9d\\xb1\\xe5\\x8c\\x97\\xe6\\xa5\\xbd\\xe5\\xa4\\xa9\\xe3\\x82\\xb4\\xe3\\x83\\xbc\\xe3\\x83\\xab\\xe3\\x83\\x87\\xe3\\x83\\xb3\\xe3\\x82\\xa4\\xe3\\x83\\xbc\\xe3\\x82\\xb0\\xe3\\x83\\xab\\xe3\\x82\\xb9\"></a></li>\\n\\t\\t\\t\\t<li><a href=\"http://www.fighters.co.jp/\" target=\"_blank\" onclick=\"ga(\\'send\\', \\'event\\', \\'footer\\', \\'click\\', this.href);\"><img src=\"https://p.npb.jp/img/common/logo/2021/logo_f_m.gif\" width=\"38\" height=\"38\" alt=\"\\xe5\\x8c\\x97\\xe6\\xb5\\xb7\\xe9\\x81\\x93\\xe6\\x97\\xa5\\xe6\\x9c\\xac\\xe3\\x83\\x8f\\xe3\\x83\\xa0\\xe3\\x83\\x95\\xe3\\x82\\xa1\\xe3\\x82\\xa4\\xe3\\x82\\xbf\\xe3\\x83\\xbc\\xe3\\x82\\xba\" title=\"\\xe5\\x8c\\x97\\xe6\\xb5\\xb7\\xe9\\x81\\x93\\xe6\\x97\\xa5\\xe6\\x9c\\xac\\xe3\\x83\\x8f\\xe3\\x83\\xa0\\xe3\\x83\\x95\\xe3\\x82\\xa1\\xe3\\x82\\xa4\\xe3\\x82\\xbf\\xe3\\x83\\xbc\\xe3\\x82\\xba\"></a></li>\\n\\t\\t\\t\\t<li><a href=\"http://www.buffaloes.co.jp/\" target=\"_blank\" onclick=\"ga(\\'send\\', \\'event\\', \\'footer\\', \\'click\\', this.href);\"><img src=\"https://p.npb.jp/img/common/logo/2021/logo_b_m.gif\" width=\"38\" height=\"38\" alt=\"\\xe3\\x82\\xaa\\xe3\\x83\\xaa\\xe3\\x83\\x83\\xe3\\x82\\xaf\\xe3\\x82\\xb9\\xe3\\x83\\xbb\\xe3\\x83\\x90\\xe3\\x83\\x95\\xe3\\x82\\xa1\\xe3\\x83\\xad\\xe3\\x83\\xbc\\xe3\\x82\\xba\" title=\"\\xe3\\x82\\xaa\\xe3\\x83\\xaa\\xe3\\x83\\x83\\xe3\\x82\\xaf\\xe3\\x82\\xb9\\xe3\\x83\\xbb\\xe3\\x83\\x90\\xe3\\x83\\x95\\xe3\\x82\\xa1\\xe3\\x83\\xad\\xe3\\x83\\xbc\\xe3\\x82\\xba\"></a></li>\\n\\t\\t\\t</ul>\\n\\t\\t\\t<ul class=\"samurai\">\\n\\t\\t\\t\\t<li><a href=\"http://www.japan-baseball.jp/\" target=\"_blank\" onclick=\"ga(\\'send\\', \\'event\\', \\'footer\\', \\'click\\', this.href);\"><img src=\"https://p.npb.jp/img/common/logo/logo_samurai_s.gif\" width=\"49\" height=\"49\" alt=\"\\xe4\\xbe\\x8d\\xe3\\x82\\xb8\\xe3\\x83\\xa3\\xe3\\x83\\x91\\xe3\\x83\\xb3\" title=\"\\xe4\\xbe\\x8d\\xe3\\x82\\xb8\\xe3\\x83\\xa3\\xe3\\x83\\x91\\xe3\\x83\\xb3\"></a></li>\\n\\t\\t\\t</ul>\\n\\t\\t</div>\\n\\t</div>\\n\\n\\t<div class=\"wrap\">\\n\\t\\t<div class=\"footer_logo\"><img src=\"https://p.npb.jp/img/footer/logo_npb_footer.gif\" width=\"377\" height=\"37\" alt=\"\\xe6\\x97\\xa5\\xe6\\x9c\\xac\\xe9\\x87\\x8e\\xe7\\x90\\x83\\xe6\\xa9\\x9f\\xe6\\xa7\\x8b\" title=\"\\xe6\\x97\\xa5\\xe6\\x9c\\xac\\xe9\\x87\\x8e\\xe7\\x90\\x83\\xe6\\xa9\\x9f\\xe6\\xa7\\x8b\"></div>\\n\\t\\t<nav class=\"hide_sp\">\\n\\t\\t\\t<ul>\\n\\t\\t\\t\\t<li class=\"category\"><a href=\"/games/\">\\xe8\\xa9\\xa6\\xe5\\x90\\x88</a></li>\\n\\t\\t\\t\\t<li><a href=\"/games/\">\\xe3\\x82\\xbb\\xe3\\x83\\xbb\\xe3\\x83\\x91\\xe5\\x85\\xac\\xe5\\xbc\\x8f\\xe6\\x88\\xa6</a></li>\\n\\t\\t\\t\\t<li><a href=\"/interleague/\">\\xe3\\x82\\xbb\\xe3\\x83\\xbb\\xe3\\x83\\x91\\xe4\\xba\\xa4\\xe6\\xb5\\x81\\xe6\\x88\\xa6</a></li>\\n\\t\\t\\t\\t<li><a href=\"/nippons/\">\\xe6\\x97\\xa5\\xe6\\x9c\\xac\\xe3\\x82\\xb7\\xe3\\x83\\xaa\\xe3\\x83\\xbc\\xe3\\x82\\xba</a></li>\\n\\t\\t\\t\\t<li><a href=\"/allstar/\">\\xe3\\x82\\xaa\\xe3\\x83\\xbc\\xe3\\x83\\xab\\xe3\\x82\\xb9\\xe3\\x82\\xbf\\xe3\\x83\\xbc\\xe3\\x83\\xbb\\xe3\\x82\\xb2\\xe3\\x83\\xbc\\xe3\\x83\\xa0</a></li>\\n\\t\\t\\t\\t<li><a href=\"/preseason/\">\\xe3\\x82\\xaa\\xe3\\x83\\xbc\\xe3\\x83\\x97\\xe3\\x83\\xb3\\xe6\\x88\\xa6</a></li>\\n\\t\\t\\t\\t<li><a href=\"/farm/\">\\xe3\\x83\\x95\\xe3\\x82\\xa1\\xe3\\x83\\xbc\\xe3\\x83\\xa0\\xe5\\x85\\xac\\xe5\\xbc\\x8f\\xe6\\x88\\xa6</a></li>\\n\\t\\t\\t\\t<li><a href=\"/farmchamp/\">\\xe3\\x83\\x95\\xe3\\x82\\xa1\\xe3\\x83\\xbc\\xe3\\x83\\xa0\\xe6\\x97\\xa5\\xe6\\x9c\\xac\\xe9\\x81\\xb8\\xe6\\x89\\x8b\\xe6\\xa8\\xa9</a></li>\\n\\t\\t\\t\\t<li><a href=\"/freshas/\">\\xe3\\x83\\x95\\xe3\\x83\\xac\\xe3\\x83\\x83\\xe3\\x82\\xb7\\xe3\\x83\\xa5\\xe3\\x82\\xaa\\xe3\\x83\\xbc\\xe3\\x83\\xab\\xe3\\x82\\xb9\\xe3\\x82\\xbf\\xe3\\x83\\xbc\\xe3\\x83\\xbb\\xe3\\x82\\xb2\\xe3\\x83\\xbc\\xe3\\x83\\xa0</a></li>\\n\\t\\t\\t\\t<li><a href=\"/challenge/\">\\xe3\\x82\\xa4\\xe3\\x83\\xbc\\xe3\\x82\\xb9\\xe3\\x82\\xbf\\xe3\\x83\\xb3\\xe3\\x83\\xbb\\xe3\\x83\\xaa\\xe3\\x83\\xbc\\xe3\\x82\\xb0 \\xe3\\x83\\x81\\xe3\\x83\\xa3\\xe3\\x83\\xac\\xe3\\x83\\xb3\\xe3\\x82\\xb8\\xe3\\x83\\xbb\\xe3\\x83\\x9e\\xe3\\x83\\x83\\xe3\\x83\\x81</a></li>\\n\\t\\t\\t\\t<li><a href=\"/preseason_farm/\">\\xe6\\x98\\xa5\\xe5\\xad\\xa3\\xe6\\x95\\x99\\xe8\\x82\\xb2\\xe3\\x83\\xaa\\xe3\\x83\\xbc\\xe3\\x82\\xb0</a></li>\\n\\t\\t\\t\\t<li><a href=\"/phoenix/\">\\xe7\\xa7\\x8b\\xe5\\xad\\xa3\\xe6\\x95\\x99\\xe8\\x82\\xb2\\xe3\\x83\\xaa\\xe3\\x83\\xbc\\xe3\\x82\\xb0</a></li>\\n\\t\\t\\t\\t<li><a href=\"/exhibition/\">\\xe7\\x89\\xb9\\xe5\\x88\\xa5\\xe8\\xa9\\xa6\\xe5\\x90\\x88</a></li>\\n\\t\\t\\t\\t<li class=\"category\"><a href=\"/bis/2020/stats/\">\\xe6\\x88\\x90\\xe7\\xb8\\xbe\\xe3\\x83\\xbb\\xe8\\xa8\\x98\\xe9\\x8c\\xb2</a></li>\\n\\t\\t\\t\\t<li><a href=\"/bis/2021/stats/\">\\xe3\\x82\\xb7\\xe3\\x83\\xbc\\xe3\\x82\\xba\\xe3\\x83\\xb3\\xe6\\x88\\x90\\xe7\\xb8\\xbe</a></li>\\n\\t\\t\\t\\t<li><a href=\"/award/\">\\xe8\\xa1\\xa8\\xe5\\xbd\\xb0\\xe9\\x81\\xb8\\xe6\\x89\\x8b</a></li>\\n\\t\\t\\t\\t<li><a href=\"/history/\">\\xe9\\x81\\x94\\xe6\\x88\\x90\\xe8\\xa8\\x98\\xe9\\x8c\\xb2</a></li>\\n\\t\\t\\t\\t<li><a href=\"/bis/yearly/\">\\xe5\\xb9\\xb4\\xe5\\xba\\xa6\\xe5\\x88\\xa5\\xe6\\x88\\x90\\xe7\\xb8\\xbe\\xef\\xbc\\x881936-2020\\xef\\xbc\\x89</a></li>\\n\\t\\t\\t</ul>\\n\\t\\t\\t<ul>\\n\\t\\t\\t\\t<li><a href=\"/bis/history/\">\\xe6\\xad\\xb4\\xe4\\xbb\\xa3\\xe6\\x9c\\x80\\xe9\\xab\\x98\\xe8\\xa8\\x98\\xe9\\x8c\\xb2\\xef\\xbc\\x88\\xe9\\x80\\x9a\\xe7\\xae\\x97\\xe8\\xa8\\x98\\xe9\\x8c\\xb2\\xe3\\x83\\xbb\\xe3\\x82\\xb7\\xe3\\x83\\xbc\\xe3\\x82\\xba\\xe3\\x83\\xb3\\xe8\\xa8\\x98\\xe9\\x8c\\xb2\\xef\\xbc\\x89</a></li>\\n\\t\\t\\t\\t<li><a href=\"/stadium/\">\\xe7\\x90\\x83\\xe5\\xa0\\xb4\\xe6\\x83\\x85\\xe5\\xa0\\xb1</a></li>\\n\\t\\t\\t\\t<li><a href=\"/statistics/\">\\xe7\\xb5\\xb1\\xe8\\xa8\\x88\\xe3\\x83\\x87\\xe3\\x83\\xbc\\xe3\\x82\\xbf</a></li>\\n\\t\\t\\t\\t<li><a href=\"/scoring/\">\\xe9\\x87\\x8e\\xe7\\x90\\x83\\xe3\\x81\\xae\\xe8\\xa8\\x98\\xe9\\x8c\\xb2\\xe3\\x81\\xab\\xe3\\x81\\xa4\\xe3\\x81\\x84\\xe3\\x81\\xa6</a></li>\\n\\t\\t\\t\\t<li class=\"category\"><a href=\"/teams/\">\\xe7\\x90\\x83\\xe5\\x9b\\xa3\\xe3\\x83\\xbb\\xe9\\x81\\xb8\\xe6\\x89\\x8b</a></li>\\n\\t\\t\\t\\t<li><a href=\"/teams/\">\\xe7\\x90\\x83\\xe5\\x9b\\xa3\\xe5\\x88\\xa5\\xe3\\x82\\xa4\\xe3\\x83\\xb3\\xe3\\x83\\x87\\xe3\\x83\\x83\\xe3\\x82\\xaf\\xe3\\x82\\xb9</a></li>\\n\\t\\t\\t\\t<li><a href=\"/bis/teams/\">\\xe9\\x81\\xb8\\xe6\\x89\\x8b\\xe4\\xb8\\x80\\xe8\\xa6\\xa7</a></li>\\n\\t\\t\\t\\t<li><a href=\"/bis/players/\">\\xe5\\x80\\x8b\\xe4\\xba\\xba\\xe5\\xb9\\xb4\\xe5\\xba\\xa6\\xe5\\x88\\xa5\\xe6\\x88\\x90\\xe7\\xb8\\xbe</a></li>\\n\\t\\t\\t\\t<li><a href=\"/history/register/\">\\xe3\\x83\\x97\\xe3\\x83\\xad\\xe9\\x87\\x8e\\xe7\\x90\\x83\\xe5\\x9c\\xa8\\xe7\\xb1\\x8d\\xe8\\x80\\x85\\xe5\\x90\\x8d\\xe7\\xb0\\xbf</a></li>\\n\\t\\t\\t\\t<li><a href=\"/announcement/\">\\xe5\\x85\\xac\\xe7\\xa4\\xba</a></li>\\n\\t\\t\\t\\t<li><a href=\"/draft/\">\\xe3\\x83\\x89\\xe3\\x83\\xa9\\xe3\\x83\\x95\\xe3\\x83\\x88\\xe4\\xbc\\x9a\\xe8\\xad\\xb0</a></li>\\n\\t\\t\\t\\t<li><a href=\"/camp/\">\\xe3\\x82\\xad\\xe3\\x83\\xa3\\xe3\\x83\\xb3\\xe3\\x83\\x97\\xe3\\x82\\xac\\xe3\\x82\\xa4\\xe3\\x83\\x89</a></li>\\n\\t\\t\\t\\t<li><a href=\"/cl/\">\\xe3\\x82\\xbb\\xe3\\x83\\xb3\\xe3\\x83\\x88\\xe3\\x83\\xa9\\xe3\\x83\\xab\\xe3\\x83\\xbb\\xe3\\x83\\xaa\\xe3\\x83\\xbc\\xe3\\x82\\xb0</a></li>\\n\\t\\t\\t\\t<li><a href=\"/pl/\">\\xe3\\x83\\x91\\xe3\\x82\\xb7\\xe3\\x83\\x95\\xe3\\x82\\xa3\\xe3\\x83\\x83\\xe3\\x82\\xaf\\xe3\\x83\\xbb\\xe3\\x83\\xaa\\xe3\\x83\\xbc\\xe3\\x82\\xb0</a></li>\\n\\t\\t\\t\\t<li><a href=\"/umpires/\">\\xe5\\xaf\\xa9\\xe5\\x88\\xa4\\xe5\\x93\\xa1\\xe3\\x83\\xbb\\xe8\\xa8\\x98\\xe9\\x8c\\xb2\\xe5\\x93\\xa1</a></li>\\n\\t\\t\\t\\t<li class=\"category\"><a href=\"/premier/2019/\">\\xe6\\x97\\xa5\\xe6\\x9c\\xac\\xe4\\xbb\\xa3\\xe8\\xa1\\xa8</a></li>\\n\\t\\t\\t\\t<li><a href=\"/wbc/\">\\xe3\\x83\\xaf\\xe3\\x83\\xbc\\xe3\\x83\\xab\\xe3\\x83\\x89\\xe3\\x83\\xbb\\xe3\\x83\\x99\\xe3\\x83\\xbc\\xe3\\x82\\xb9\\xe3\\x83\\x9c\\xe3\\x83\\xbc\\xe3\\x83\\xab\\xe3\\x83\\xbb\\xe3\\x82\\xaf\\xe3\\x83\\xa9\\xe3\\x82\\xb7\\xe3\\x83\\x83\\xe3\\x82\\xaf</a></li>\\n\\t\\t\\t\\t<li><a href=\"/premier/\">WBSC \\xe3\\x83\\x97\\xe3\\x83\\xac\\xe3\\x83\\x9f\\xe3\\x82\\xa212</a></li>\\n\\t\\t\\t</ul>\\n\\t\\t\\t<ul>\\n\\t\\t\\t\\t<li><a href=\"/olympic/\">\\xe3\\x82\\xaa\\xe3\\x83\\xaa\\xe3\\x83\\xb3\\xe3\\x83\\x94\\xe3\\x83\\x83\\xe3\\x82\\xaf\\xe7\\xab\\xb6\\xe6\\x8a\\x80\\xe5\\xa4\\xa7\\xe4\\xbc\\x9a</a></li>\\n\\t\\t\\t\\t<li><a href=\"/apbc/\">\\xe3\\x82\\xa2\\xe3\\x82\\xb8\\xe3\\x82\\xa2 \\xe3\\x83\\x97\\xe3\\x83\\xad\\xe9\\x87\\x8e\\xe7\\x90\\x83\\xe3\\x83\\x81\\xe3\\x83\\xa3\\xe3\\x83\\xb3\\xe3\\x83\\x94\\xe3\\x82\\xaa\\xe3\\x83\\xb3\\xe3\\x82\\xb7\\xe3\\x83\\x83\\xe3\\x83\\x97</a></li>\\n\\t\\t\\t\\t<li><a href=\"/japan/\">\\xe4\\xbe\\x8d\\xe3\\x82\\xb8\\xe3\\x83\\xa3\\xe3\\x83\\x91\\xe3\\x83\\xb3\\xe5\\xbc\\xb7\\xe5\\x8c\\x96\\xe8\\xa9\\xa6\\xe5\\x90\\x88</a></li>\\n\\t\\t\\t\\t<li><a href=\"/japanus/\">\\xe6\\x97\\xa5\\xe7\\xb1\\xb3\\xe9\\x87\\x8e\\xe7\\x90\\x83</a></li>\\n\\t\\t\\t\\t<li><a href=\"/alljapan/\">\\xe9\\x87\\x8e\\xe7\\x90\\x83\\xe6\\x97\\xa5\\xe6\\x9c\\xac\\xe4\\xbb\\xa3\\xe8\\xa1\\xa8\\xef\\xbc\\x88\\xe3\\x81\\x9d\\xe3\\x81\\xae\\xe4\\xbb\\x96\\xef\\xbc\\x89</a></li>\\n\\t\\t\\t\\t<li><a href=\"/asia/\">\\xe3\\x82\\xa2\\xe3\\x82\\xb8\\xe3\\x82\\xa2\\xe3\\x82\\xb7\\xe3\\x83\\xaa\\xe3\\x83\\xbc\\xe3\\x82\\xba/\\xe6\\x97\\xa5\\xe9\\x9f\\x93\\xe3\\x82\\xaf\\xe3\\x83\\xa9\\xe3\\x83\\x96CS</a></li>\\n\\t\\t\\t\\t<li><a href=\"/winterleague/\">\\xe3\\x82\\xa6\\xe3\\x82\\xa4\\xe3\\x83\\xb3\\xe3\\x82\\xbf\\xe3\\x83\\xbc\\xe3\\x83\\xbb\\xe3\\x83\\xaa\\xe3\\x83\\xbc\\xe3\\x82\\xb0</a></li>\\n\\t\\t\\t\\t<li class=\"category\"><a href=\"/news/npb_all.html\">\\xe3\\x83\\x8b\\xe3\\x83\\xa5\\xe3\\x83\\xbc\\xe3\\x82\\xb9</a></li>\\n\\t\\t\\t\\t<li><a href=\"/news/npb_all.html\">NPB\\xe3\\x83\\x8b\\xe3\\x83\\xa5\\xe3\\x83\\xbc\\xe3\\x82\\xb9</a></li>\\n\\t\\t\\t\\t<li><a href=\"/news/teamnews_all.html\">12\\xe7\\x90\\x83\\xe5\\x9b\\xa3\\xe3\\x83\\x8b\\xe3\\x83\\xa5\\xe3\\x83\\xbc\\xe3\\x82\\xb9</a></li>\\n\\t\\t\\t\\t<li><a href=\"/npb/\">NPB\\xe3\\x81\\x8b\\xe3\\x82\\x89\\xe3\\x81\\xae\\xe3\\x81\\x8a\\xe7\\x9f\\xa5\\xe3\\x82\\x89\\xe3\\x81\\x9b</a></li>\\n\\t\\t\\t\\t<li><a href=\"/event/\">\\xe3\\x83\\x97\\xe3\\x83\\xad\\xe9\\x87\\x8e\\xe7\\x90\\x83\\xe5\\xb9\\xb4\\xe9\\x96\\x93\\xe8\\xa1\\x8c\\xe4\\xba\\x8b\\xe6\\x97\\xa5\\xe7\\xa8\\x8b</a></li>\\n\\t\\t\\t\\t<!-- <li><a href=\"/event/nenkan/\">\\xe3\\x82\\xb9\\xe3\\x82\\xb1\\xe3\\x82\\xb8\\xe3\\x83\\xa5\\xe3\\x83\\xbc\\xe3\\x83\\xab\\xe3\\x82\\xab\\xe3\\x83\\xac\\xe3\\x83\\xb3\\xe3\\x83\\x80\\xe3\\x83\\xbc</a></li> -->\\n\\t\\t\\t\\t<li><a href=\"/video/\">NPB\\xe3\\x83\\xa0\\xe3\\x83\\xbc\\xe3\\x83\\x93\\xe3\\x83\\xbc</a></li>\\n\\t\\t\\t\\t<li class=\"category\"><a href=\"/junior/\">\\xe4\\xba\\x8b\\xe6\\xa5\\xad\\xe3\\x83\\xbb\\xe6\\x8c\\xaf\\xe8\\x88\\x88</a></li>\\n\\t\\t\\t\\t<li><a href=\"/slogan/\">NPB\\xe3\\x82\\xb9\\xe3\\x83\\xad\\xe3\\x83\\xbc\\xe3\\x82\\xac\\xe3\\x83\\xb3</a></li>\\n\\t\\t\\t\\t<li><a href=\"/npb/#ctg01\">\\xe8\\xa9\\xa6\\xe5\\x90\\x88\\xe8\\xa6\\xb3\\xe6\\x88\\xa6\\xe5\\xa5\\x91\\xe7\\xb4\\x84\\xe7\\xb4\\x84\\xe6\\xac\\xbe/\\xe6\\x9a\\xb4\\xe5\\x8a\\x9b\\xe5\\x9b\\xa3\\xe7\\xad\\x89\\xe6\\x8e\\x92\\xe9\\x99\\xa4\\xe6\\xb4\\xbb\\xe5\\x8b\\x95</a></li>\\n\\t\\t\\t\\t<li><a href=\"/npb/batmakers.html\">NPB\\xe5\\x85\\xac\\xe8\\xaa\\x8d\\xe3\\x83\\x90\\xe3\\x83\\x83\\xe3\\x83\\x88\\xe3\\x83\\xa1\\xe3\\x83\\xbc\\xe3\\x82\\xab\\xe3\\x83\\xbc\\xe4\\xb8\\x80\\xe8\\xa6\\xa7</a></li>\\n\\t\\t\\t\\t<li><a href=\"/anti-doping/\">\\xe3\\x82\\xa2\\xe3\\x83\\xb3\\xe3\\x83\\x81\\xe3\\x83\\xbb\\xe3\\x83\\x89\\xe3\\x83\\xbc\\xe3\\x83\\x94\\xe3\\x83\\xb3\\xe3\\x82\\xb0</a></li>\\n\\t\\t\\t</ul>\\n\\t\\t\\t<ul>\\n\\t\\t\\t\\t<li><a href=\"/rookie/\">\\xe6\\x96\\xb0\\xe4\\xba\\xba\\xe9\\x81\\xb8\\xe6\\x89\\x8b\\xe7\\xa0\\x94\\xe4\\xbf\\xae\\xe4\\xbc\\x9a</a></li>\\n\\t\\t\\t\\t<li><a href=\"/secondcareer/\">\\xe3\\x82\\xbb\\xe3\\x82\\xab\\xe3\\x83\\xb3\\xe3\\x83\\x89\\xe3\\x82\\xad\\xe3\\x83\\xa3\\xe3\\x83\\xaa\\xe3\\x82\\xa2</a></li>\\n\\t\\t\\t\\t<li><a href=\"/npb/kaifuku.html\">\\xe5\\xad\\xa6\\xe7\\x94\\x9f\\xe9\\x87\\x8e\\xe7\\x90\\x83\\xe8\\xb3\\x87\\xe6\\xa0\\xbc\\xe5\\x9b\\x9e\\xe5\\xbe\\xa9\\xe5\\x88\\xb6\\xe5\\xba\\xa6</a></li>\\n\\t\\t\\t\\t<li><a href=\"/umpireschool/\">NPB\\xe3\\x82\\xa2\\xe3\\x83\\xb3\\xe3\\x83\\x91\\xe3\\x82\\xa4\\xe3\\x82\\xa2\\xe3\\x83\\xbb\\xe3\\x82\\xb9\\xe3\\x82\\xaf\\xe3\\x83\\xbc\\xe3\\x83\\xab</a></li>\\n\\t\\t\\t\\t<li><a href=\"/npb/#ctg25\">\\xe9\\x87\\x8e\\xe7\\x90\\x83\\xe6\\x8c\\xaf\\xe8\\x88\\x88</a></li>\\n\\t\\t\\t\\t<li><a href=\"/junior/\">12\\xe7\\x90\\x83\\xe5\\x9b\\xa3\\xe3\\x82\\xb8\\xe3\\x83\\xa5\\xe3\\x83\\x8b\\xe3\\x82\\xa2\\xe3\\x83\\x88\\xe3\\x83\\xbc\\xe3\\x83\\x8a\\xe3\\x83\\xa1\\xe3\\x83\\xb3\\xe3\\x83\\x88</a></li>\\n\\t\\t\\t\\t<li><a href=\"/girls/\">NPB\\xe3\\x82\\xac\\xe3\\x83\\xbc\\xe3\\x83\\xab\\xe3\\x82\\xba\\xe3\\x83\\x88\\xe3\\x83\\xbc\\xe3\\x83\\x8a\\xe3\\x83\\xa1\\xe3\\x83\\xb3\\xe3\\x83\\x88</a></li>\\n\\t\\t\\t\\t<li><a href=\"/npb/#ctg21\">\\xe6\\x9d\\xb1\\xe6\\x97\\xa5\\xe6\\x9c\\xac\\xe5\\xa4\\xa7\\xe9\\x9c\\x87\\xe7\\x81\\xbd\\xe5\\xbe\\xa9\\xe8\\x88\\x88\\xe6\\x94\\xaf\\xe6\\x8f\\xb4</a></li>\\n\\t\\t\\t\\t<li><a href=\"/bbfesta/\">\\xe3\\x83\\x99\\xe3\\x83\\xbc\\xe3\\x82\\xb9\\xe3\\x83\\x9c\\xe3\\x83\\xbc\\xe3\\x83\\xab\\xe3\\x83\\x95\\xe3\\x82\\xa7\\xe3\\x82\\xb9\\xe3\\x82\\xbf</a></li>\\n\\t\\t\\t\\t<li><a href=\"/auction/\">\\xe3\\x83\\x81\\xe3\\x83\\xa3\\xe3\\x83\\xaa\\xe3\\x83\\x86\\xe3\\x82\\xa3\\xe3\\x83\\xbc\\xe3\\x82\\xaa\\xe3\\x83\\xbc\\xe3\\x82\\xaf\\xe3\\x82\\xb7\\xe3\\x83\\xa7\\xe3\\x83\\xb3</a></li>\\n\\t\\t\\t\\t<li><a href=\"/gbp/\">NPB Green Baseball Project</a></li>\\n\\t\\t\\t\\t<li><a href=\"/cool/\">\\xe7\\x92\\xb0\\xe5\\xa2\\x83\\xe8\\xb2\\xa2\\xe7\\x8c\\xae\\xe6\\xb4\\xbb\\xe5\\x8b\\x95</a></li>\\n\\t\\t\\t\\t<li><a href=\"/esports/\">e\\xe3\\x82\\xb9\\xe3\\x83\\x9d\\xe3\\x83\\xbc\\xe3\\x83\\x84</a></li>\\n\\t\\t\\t\\t<li><a href=\"/kyogikai/\">\\xe6\\x97\\xa5\\xe6\\x9c\\xac\\xe9\\x87\\x8e\\xe7\\x90\\x83\\xe5\\x8d\\x94\\xe8\\xad\\xb0\\xe4\\xbc\\x9a</a></li>\\n\\t\\t\\t\\t<li class=\"category\"><a href=\"http://shop.npb.or.jp/npbshop/ad.html?ccd=t10092408\" target=\"_blank\">\\xe3\\x82\\xb0\\xe3\\x83\\x83\\xe3\\x82\\xba</a></li>\\n\\t\\t\\t\\t<li><a href=\"/books/\">\\xe3\\x82\\xb0\\xe3\\x83\\x83\\xe3\\x82\\xba\\xe3\\x83\\xbb\\xe6\\x9b\\xb8\\xe7\\xb1\\x8d\\xe3\\x81\\xae\\xe3\\x81\\x94\\xe6\\xa1\\x88\\xe5\\x86\\x85</a></li>\\n\\t\\t\\t\\t<li><a href=\"/game/\">\\xe6\\x89\\xbf\\xe8\\xaa\\x8d\\xe3\\x82\\xb2\\xe3\\x83\\xbc\\xe3\\x83\\xa0\\xe3\\x83\\xa1\\xe3\\x83\\xbc\\xe3\\x82\\xab\\xe3\\x83\\xbc</a></li>\\n\\t\\t\\t\\t<li><a href=\"http://shop.npb.or.jp/npbshop/ad.html?ccd=b10090002\" target=\"_blank\" onclick=\"ga(\\'send\\', \\'event\\', \\'footer\\', \\'click\\', this.href);\">NPB\\xe3\\x82\\xaa\\xe3\\x83\\x95\\xe3\\x82\\xa3\\xe3\\x82\\xb7\\xe3\\x83\\xa3\\xe3\\x83\\xab\\xe3\\x82\\xaa\\xe3\\x83\\xb3\\xe3\\x83\\xa9\\xe3\\x82\\xa4\\xe3\\x83\\xb3\\xe3\\x82\\xb7\\xe3\\x83\\xa7\\xe3\\x83\\x83\\xe3\\x83\\x97</a></li>\\n\\t\\t\\t</ul>\\n\\t\\t</nav>\\n\\t\\t<div class=\"mobile_info hide_sp\">\\n\\t\\t\\t<img src=\"https://p.npb.jp/img/footer/icon_mobile.gif\" alt=\"\">\\n\\t\\t\\t<p class=\"text\">\\xe3\\x83\\xa2\\xe3\\x83\\x90\\xe3\\x82\\xa4\\xe3\\x83\\xab\\xe3\\x81\\xa7\\xe3\\x82\\x82 npb.jp \\xe3\\x81\\xab\\xe3\\x82\\xa2\\xe3\\x82\\xaf\\xe3\\x82\\xbb\\xe3\\x82\\xb9</p>\\n\\t\\t</div>\\n\\t\\t<ul class=\"footer_link\">\\n\\t\\t\\t<li><a href=\"/organization/\">\\xe4\\xb8\\x80\\xe8\\x88\\xac\\xe7\\xa4\\xbe\\xe5\\x9b\\xa3\\xe6\\xb3\\x95\\xe4\\xba\\xba\\xe6\\x97\\xa5\\xe6\\x9c\\xac\\xe9\\x87\\x8e\\xe7\\x90\\x83\\xe6\\xa9\\x9f\\xe6\\xa7\\x8b\\xe3\\x81\\xab\\xe3\\x81\\xa4\\xe3\\x81\\x84\\xe3\\x81\\xa6</a></li>\\n\\t\\t\\t<li><a href=\"/recruit/\">\\xe6\\x8e\\xa1\\xe7\\x94\\xa8\\xe6\\x83\\x85\\xe5\\xa0\\xb1</a></li>\\n\\t\\t\\t<li><a href=\"/link/\">\\xe3\\x83\\xaa\\xe3\\x83\\xb3\\xe3\\x82\\xaf\\xe9\\x9b\\x86</a></li>\\n\\t\\t\\t<li><a href=\"/sitemap/\">\\xe3\\x82\\xb5\\xe3\\x82\\xa4\\xe3\\x83\\x88\\xe3\\x83\\x9e\\xe3\\x83\\x83\\xe3\\x83\\x97</a></li>\\n\\t\\t\\t<li><a href=\"/policy/\">\\xe3\\x83\\x97\\xe3\\x83\\xa9\\xe3\\x82\\xa4\\xe3\\x83\\x90\\xe3\\x82\\xb7\\xe3\\x83\\xbc\\xe3\\x83\\x9d\\xe3\\x83\\xaa\\xe3\\x82\\xb7\\xe3\\x83\\xbc</a></li>\\n\\t\\t\\t<li><a href=\"/form/opinionbox/\">\\xe3\\x81\\x94\\xe6\\x84\\x8f\\xe8\\xa6\\x8b\\xe7\\xae\\xb1</a></li>\\n\\t\\t\\t<li><a href=\"/mailmaga/\">\\xe3\\x83\\xa1\\xe3\\x83\\xbc\\xe3\\x83\\xab\\xe3\\x83\\x9e\\xe3\\x82\\xac\\xe3\\x82\\xb8\\xe3\\x83\\xb3</a></li>\\n\\t\\t\\t<li><a href=\"/social/\">\\xe3\\x82\\xbd\\xe3\\x83\\xbc\\xe3\\x82\\xb7\\xe3\\x83\\xa3\\xe3\\x83\\xab\\xe3\\x83\\xa1\\xe3\\x83\\x87\\xe3\\x82\\xa3\\xe3\\x82\\xa2</a></li>\\n\\t\\t</ul>\\n\\t\\t<div class=\"copyright\">Copyright (C) 1996-2021 Nippon Professional Baseball Organization. All Rights Reserved.<br>\\xe6\\x8e\\xb2\\xe8\\xbc\\x89\\xe3\\x81\\xae\\xe6\\x83\\x85\\xe5\\xa0\\xb1\\xe3\\x83\\xbb\\xe7\\x94\\xbb\\xe5\\x83\\x8f\\xe7\\xad\\x89\\xe3\\x81\\xae\\xe7\\x84\\xa1\\xe6\\x96\\xad\\xe8\\xbb\\xa2\\xe8\\xbc\\x89\\xe3\\x82\\x92\\xe5\\x9b\\xba\\xe3\\x81\\x8f\\xe7\\xa6\\x81\\xe3\\x81\\x98\\xe3\\x81\\xbe\\xe3\\x81\\x99\\xe3\\x80\\x82</div>\\n\\t</div>\\n\\n\\n</footer>\\n\\n\\t</div>\\n</body>\\n</html>\\n'"
      ]
     },
     "execution_count": 2,
     "metadata": {},
     "output_type": "execute_result"
    }
   ],
   "source": [
    "session = requests.Session()\n",
    "response = session.get('http://npb.jp/bis/teams/')\n",
    "response.content"
   ]
  },
  {
   "cell_type": "code",
   "execution_count": 6,
   "metadata": {},
   "outputs": [
    {
     "name": "stdout",
     "output_type": "stream",
     "text": [
      "https://npb.jp/bis/teams/rst_g.html\n",
      "https://npb.jp/bis/teams/rst_t.html\n",
      "https://npb.jp/bis/teams/rst_d.html\n",
      "https://npb.jp/bis/teams/rst_db.html\n",
      "https://npb.jp/bis/teams/rst_c.html\n",
      "https://npb.jp/bis/teams/rst_s.html\n",
      "https://npb.jp/bis/teams/rst_h.html\n",
      "https://npb.jp/bis/teams/rst_m.html\n",
      "https://npb.jp/bis/teams/rst_l.html\n",
      "https://npb.jp/bis/teams/rst_e.html\n",
      "https://npb.jp/bis/teams/rst_f.html\n",
      "https://npb.jp/bis/teams/rst_b.html\n"
     ]
    }
   ],
   "source": [
    "root = lxml.html.fromstring(response.content)\n",
    "root.make_links_absolute(response.url)\n",
    "for a in root.cssselect('#team_list a'):\n",
    "    url = a.get('href')\n",
    "    print(url)"
   ]
  },
  {
   "cell_type": "code",
   "execution_count": 8,
   "metadata": {},
   "outputs": [
    {
     "name": "stdout",
     "output_type": "stream",
     "text": [
      "https://npb.jp/bis/players/21825153.html\n",
      "https://npb.jp/bis/players/93795138.html\n",
      "https://npb.jp/bis/players/83385151.html\n",
      "https://npb.jp/bis/players/11515115.html\n",
      "https://npb.jp/bis/players/41745137.html\n",
      "https://npb.jp/bis/players/03305153.html\n",
      "https://npb.jp/bis/players/41045138.html\n",
      "https://npb.jp/bis/players/61165137.html\n",
      "https://npb.jp/bis/players/81285118.html\n",
      "https://npb.jp/bis/players/31335135.html\n",
      "https://npb.jp/bis/players/41945139.html\n",
      "https://npb.jp/bis/players/51555137.html\n",
      "https://npb.jp/bis/players/21525151.html\n",
      "https://npb.jp/bis/players/31935132.html\n",
      "https://npb.jp/bis/players/81285132.html\n",
      "https://npb.jp/bis/players/33935134.html\n",
      "https://npb.jp/bis/players/31635134.html\n",
      "https://npb.jp/bis/players/61965138.html\n",
      "https://npb.jp/bis/players/93795151.html\n",
      "https://npb.jp/bis/players/21225130.html\n",
      "https://npb.jp/bis/players/91095134.html\n",
      "https://npb.jp/bis/players/91395153.html\n",
      "https://npb.jp/bis/players/31035135.html\n",
      "https://npb.jp/bis/players/13515153.html\n",
      "https://npb.jp/bis/players/81085132.html\n",
      "https://npb.jp/bis/players/81885138.html\n",
      "https://npb.jp/bis/players/41245139.html\n",
      "https://npb.jp/bis/players/71375134.html\n",
      "https://npb.jp/bis/players/51355151.html\n",
      "https://npb.jp/bis/players/61265138.html\n",
      "https://npb.jp/bis/players/71875134.html\n",
      "https://npb.jp/bis/players/91795139.html\n",
      "https://npb.jp/bis/players/21325136.html\n",
      "https://npb.jp/bis/players/91995112.html\n",
      "https://npb.jp/bis/players/91595136.html\n",
      "https://npb.jp/bis/players/03105151.html\n",
      "https://npb.jp/bis/players/61665153.html\n",
      "https://npb.jp/bis/players/43145136.html\n",
      "https://npb.jp/bis/players/51855132.html\n",
      "https://npb.jp/bis/players/01005113.html\n",
      "https://npb.jp/bis/players/51955114.html\n",
      "https://npb.jp/bis/players/23725153.html\n",
      "https://npb.jp/bis/players/11515130.html\n",
      "https://npb.jp/bis/players/73375134.html\n",
      "https://npb.jp/bis/players/21625132.html\n",
      "https://npb.jp/bis/players/13315136.html\n",
      "https://npb.jp/bis/players/51655153.html\n",
      "https://npb.jp/bis/players/03105130.html\n",
      "https://npb.jp/bis/players/21525136.html\n",
      "https://npb.jp/bis/players/31935151.html\n",
      "https://npb.jp/bis/players/01605138.html\n",
      "https://npb.jp/bis/players/21625138.html\n",
      "https://npb.jp/bis/players/21525130.html\n",
      "https://npb.jp/bis/players/71175153.html\n",
      "https://npb.jp/bis/players/13315151.html\n",
      "https://npb.jp/bis/players/21825112.html\n",
      "https://npb.jp/bis/players/21425116.html\n",
      "https://npb.jp/bis/players/81385110.html\n",
      "https://npb.jp/bis/players/61565114.html\n",
      "https://npb.jp/bis/players/21825134.html\n",
      "https://npb.jp/bis/players/01105135.html\n",
      "https://npb.jp/bis/players/81985118.html\n",
      "https://npb.jp/bis/players/21925132.html\n",
      "https://npb.jp/bis/players/83785153.html\n",
      "https://npb.jp/bis/players/71875130.html\n",
      "https://npb.jp/bis/players/81185151.html\n",
      "https://npb.jp/bis/players/13315134.html\n",
      "https://npb.jp/bis/players/51755153.html\n",
      "https://npb.jp/bis/players/81485138.html\n",
      "https://npb.jp/bis/players/01605153.html\n",
      "https://npb.jp/bis/players/71975153.html\n",
      "https://npb.jp/bis/players/11215136.html\n",
      "https://npb.jp/bis/players/91495153.html\n",
      "https://npb.jp/bis/players/31735136.html\n",
      "https://npb.jp/bis/players/23325153.html\n",
      "https://npb.jp/bis/players/21625151.html\n",
      "https://npb.jp/bis/players/51255134.html\n",
      "https://npb.jp/bis/players/53355132.html\n",
      "https://npb.jp/bis/players/91195153.html\n",
      "https://npb.jp/bis/players/11215138.html\n",
      "https://npb.jp/bis/players/71075153.html\n",
      "https://npb.jp/bis/players/81885153.html\n",
      "https://npb.jp/bis/players/31935153.html\n",
      "https://npb.jp/bis/players/21725153.html\n",
      "https://npb.jp/bis/players/31635151.html\n",
      "https://npb.jp/bis/players/91795138.html\n",
      "https://npb.jp/bis/players/61565153.html\n",
      "https://npb.jp/bis/players/61765151.html\n",
      "https://npb.jp/bis/players/41845153.html\n",
      "https://npb.jp/bis/players/01805138.html\n"
     ]
    }
   ],
   "source": [
    "response = session.get('https://npb.jp/bis/teams/rst_g.html')\n",
    "root = lxml.html.fromstring(response.content)\n",
    "root.make_links_absolute(response.url)\n",
    "\n",
    "for a in root.cssselect('td.rosterRegister a'):\n",
    "    url = a.get('href')\n",
    "    print(url)"
   ]
  },
  {
   "cell_type": "code",
   "execution_count": 11,
   "metadata": {},
   "outputs": [
    {
     "data": {
      "text/plain": [
       "['年度',\n",
       " '所属球団',\n",
       " '登板',\n",
       " '勝利',\n",
       " '敗北',\n",
       " 'セーブ',\n",
       " 'H',\n",
       " 'HP',\n",
       " '完投',\n",
       " '完封勝',\n",
       " '無四球',\n",
       " '勝率',\n",
       " '打者',\n",
       " '投球回',\n",
       " '安打',\n",
       " '本塁打',\n",
       " '四球',\n",
       " '死球',\n",
       " '三振',\n",
       " '暴投',\n",
       " 'ボーク',\n",
       " '失点',\n",
       " '自責点',\n",
       " '防御率']"
      ]
     },
     "execution_count": 11,
     "metadata": {},
     "output_type": "execute_result"
    }
   ],
   "source": [
    "response = session.get('https://npb.jp/bis/players/33935134.html')\n",
    "root = lxml.html.fromstring(response.content)\n",
    "\n",
    "keys = root.cssselect('#tablefix_p thead tr th')\n",
    "keys_string = [key.text for key in keys]\n",
    "keys_string"
   ]
  },
  {
   "cell_type": "code",
   "execution_count": 18,
   "metadata": {},
   "outputs": [
    {
     "data": {
      "text/plain": [
       "'\\r\\n                    3.10                '"
      ]
     },
     "execution_count": 18,
     "metadata": {},
     "output_type": "execute_result"
    }
   ],
   "source": [
    "values = root.cssselect('#tablefix_p tbody tr.registerStats')[-1]\n",
    "values[-1].text"
   ]
  },
  {
   "cell_type": "code",
   "execution_count": 20,
   "metadata": {},
   "outputs": [
    {
     "data": {
      "text/plain": [
       "{'年度': '2020',\n",
       " '所属球団': '読\\u3000売',\n",
       " '登板': '11',\n",
       " '勝利': '4',\n",
       " '敗北': '4',\n",
       " 'セーブ': '0',\n",
       " 'H': '0',\n",
       " 'HP': '0',\n",
       " '完投': '0',\n",
       " '完封勝': '0',\n",
       " '無四球': '0',\n",
       " '勝率': '.500',\n",
       " '打者': '243',\n",
       " '投球回': '',\n",
       " '安打': '53',\n",
       " '本塁打': '5',\n",
       " '四球': '19',\n",
       " '死球': '2',\n",
       " '三振': '45',\n",
       " '暴投': '0',\n",
       " 'ボーク': '1',\n",
       " '失点': '20',\n",
       " '自責点': '20',\n",
       " '防御率': '3.10'}"
      ]
     },
     "execution_count": 20,
     "metadata": {},
     "output_type": "execute_result"
    }
   ],
   "source": [
    "record = {key.text: value.text.strip() for key, value in zip(keys, values)}\n",
    "record"
   ]
  },
  {
   "cell_type": "code",
   "execution_count": 24,
   "metadata": {},
   "outputs": [
    {
     "data": {
      "text/plain": [
       "'Ｃ．Ｃ．メルセデス'"
      ]
     },
     "execution_count": 24,
     "metadata": {},
     "output_type": "execute_result"
    }
   ],
   "source": [
    "name = root.cssselect('#pc_v_name #pc_v_name')\n",
    "name[0].text.strip()"
   ]
  },
  {
   "cell_type": "code",
   "execution_count": 25,
   "metadata": {},
   "outputs": [
    {
     "data": {
      "text/plain": [
       "'58'"
      ]
     },
     "execution_count": 25,
     "metadata": {},
     "output_type": "execute_result"
    }
   ],
   "source": [
    "inning = root.cssselect('#tablefix_p tbody tr.registerStats table.table_inning tbody tr th')\n",
    "inning[-1].text"
   ]
  },
  {
   "cell_type": "code",
   "execution_count": 26,
   "metadata": {},
   "outputs": [
    {
     "data": {
      "text/plain": [
       "{'年度': '2020',\n",
       " '所属球団': '読\\u3000売',\n",
       " '登板': '11',\n",
       " '勝利': '4',\n",
       " '敗北': '4',\n",
       " 'セーブ': '0',\n",
       " 'H': '0',\n",
       " 'HP': '0',\n",
       " '完投': '0',\n",
       " '完封勝': '0',\n",
       " '無四球': '0',\n",
       " '勝率': '.500',\n",
       " '打者': '243',\n",
       " '投球回': '58',\n",
       " '安打': '53',\n",
       " '本塁打': '5',\n",
       " '四球': '19',\n",
       " '死球': '2',\n",
       " '三振': '45',\n",
       " '暴投': '0',\n",
       " 'ボーク': '1',\n",
       " '失点': '20',\n",
       " '自責点': '20',\n",
       " '防御率': '3.10',\n",
       " '名前': 'Ｃ．Ｃ．メルセデス'}"
      ]
     },
     "execution_count": 26,
     "metadata": {},
     "output_type": "execute_result"
    }
   ],
   "source": [
    "record['名前'] = name[0].text.strip()\n",
    "record['投球回'] = inning[-1].text\n",
    "record"
   ]
  },
  {
   "cell_type": "code",
   "execution_count": null,
   "metadata": {},
   "outputs": [],
   "source": []
  }
 ],
 "metadata": {
  "kernelspec": {
   "display_name": "Python 3",
   "language": "python",
   "name": "python3"
  },
  "language_info": {
   "codemirror_mode": {
    "name": "ipython",
    "version": 3
   },
   "file_extension": ".py",
   "mimetype": "text/x-python",
   "name": "python",
   "nbconvert_exporter": "python",
   "pygments_lexer": "ipython3",
   "version": "3.8.5"
  }
 },
 "nbformat": 4,
 "nbformat_minor": 4
}
